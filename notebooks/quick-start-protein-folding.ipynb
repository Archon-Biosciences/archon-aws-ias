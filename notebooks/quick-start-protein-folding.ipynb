{
 "cells": [
  {
   "cell_type": "markdown",
   "metadata": {},
   "source": [
    "Copyright Amazon.com, Inc. or its affiliates. All Rights Reserved.\n",
    "SPDX-License-Identifier: Apache-2.0"
   ]
  },
  {
   "cell_type": "markdown",
   "metadata": {
    "id": "pc5-mbsX9PZC"
   },
   "source": [
    "# Quick Start: Running Protein Folding on AWS Batch"
   ]
  },
  {
   "cell_type": "markdown",
   "metadata": {},
   "source": [
    "## Table of Contents\n",
    "0. [Install Dependencies](#0.-Install-Dependencies)\n",
    "1. [Create Target](#1.-Create-Target)\n",
    "2. [Submit Sequence Alignment and Folding Jobs](#2.-Submit-Sequence-Alignment-and-Folding-Jobs) \n",
    "3. [Download and Visualize Results](#3.-Download-and-Visualize-Results)"
   ]
  },
  {
   "cell_type": "markdown",
   "metadata": {},
   "source": [
    "## 0. Install Dependencies"
   ]
  },
  {
   "cell_type": "code",
   "execution_count": 2,
   "metadata": {},
   "outputs": [
    {
     "name": "stdout",
     "output_type": "stream",
     "text": [
      "\u001b[33m  DEPRECATION: batchfold is being installed using the legacy 'setup.py install' method, because it does not have a 'pyproject.toml' and the 'wheel' package is not installed. pip 23.1 will enforce this behaviour change. A possible replacement is to enable the '--use-pep517' option. Discussion can be found at https://github.com/pypa/pip/issues/8559\u001b[0m\u001b[33m\n",
      "\u001b[0mNote: you may need to restart the kernel to use updated packages.\n"
     ]
    }
   ],
   "source": [
    "%pip install -U -q -r notebook-requirements.txt"
   ]
  },
  {
   "cell_type": "code",
   "execution_count": 1,
   "metadata": {},
   "outputs": [
    {
     "name": "stdout",
     "output_type": "stream",
     "text": [
      "{\n",
      "    \"UserId\": \"AROASN64FTRLFIOXDZ6MI:bloyal-Isengard\",\n",
      "    \"Account\": \"167428594774\",\n",
      "    \"Arn\": \"arn:aws:sts::167428594774:assumed-role/Admin/bloyal-Isengard\"\n",
      "}\n"
     ]
    }
   ],
   "source": [
    "!aws sts get-caller-identity"
   ]
  },
  {
   "cell_type": "code",
   "execution_count": 2,
   "metadata": {},
   "outputs": [
    {
     "name": "stdout",
     "output_type": "stream",
     "text": [
      " S3 bucket name is batchfold-221102-batchfolds3bucket-1byh6n52qfaov\n"
     ]
    }
   ],
   "source": [
    "# Import required Python packages\n",
    "\n",
    "import boto3\n",
    "from datetime import datetime\n",
    "import matplotlib.pyplot as plt\n",
    "from batchfold.batchfold_environment import BatchFoldEnvironment\n",
    "from batchfold.batchfold_target import BatchFoldTarget\n",
    "from batchfold.jackhmmer_job import JackhmmerJob\n",
    "from batchfold.openfold_job import OpenFoldJob\n",
    "from batchfold.alphafold2_job import AlphaFold2Job\n",
    "from batchfold.omegafold_job import OmegaFoldJob\n",
    "from batchfold.esmfold_job import ESMFoldJob\n",
    "from batchfold.utils import utils\n",
    "from IPython import display\n",
    "import numpy as np\n",
    "\n",
    "# Create AWS clients\n",
    "boto_session = boto3.session.Session(profile_name='bloyal+proteinfolding-Admin')\n",
    "\n",
    "batch_environment = BatchFoldEnvironment(boto_session=boto_session)\n",
    "\n",
    "S3_BUCKET = batch_environment.default_bucket\n",
    "print(f\" S3 bucket name is {S3_BUCKET}\")"
   ]
  },
  {
   "cell_type": "markdown",
   "metadata": {
    "id": "W4JpOs6oA-QS"
   },
   "source": [
    "## 1. Create Target"
   ]
  },
  {
   "cell_type": "code",
   "execution_count": 3,
   "metadata": {},
   "outputs": [
    {
     "data": {
      "text/plain": [
       "'s3://batchfold-221102-batchfolds3bucket-1byh6n52qfaov/7FCC/fastas/7FCC.fasta'"
      ]
     },
     "execution_count": 3,
     "metadata": {},
     "output_type": "execute_result"
    }
   ],
   "source": [
    "target_id = \"7FCC\"\n",
    "target = BatchFoldTarget(target_id=target_id, s3_bucket=S3_BUCKET, boto_session=boto_session)\n",
    "target.add_sequence(\n",
    "    seq_id=target_id,\n",
    "    seq=\"KEYDIYVSYARNAEEEEFVLLTLRGVLENEFGYKLCIFDRDSLPGGNTVEAVFDFIQRSRRMIVVLSPDYVTEKSISMLEFKLGVMCQNSIATKLIVVEYRPLEHPHPGILQLKESVSFVSWKGEKSKHSGSKFWKALRLALPLRS\",\n",
    "    description=\"Chain A|Isoform 4 of Interleukin-1 receptor accessory protein|Homo sapiens (9606)\",\n",
    ")"
   ]
  },
  {
   "cell_type": "markdown",
   "metadata": {},
   "source": [
    "## 2. Submit Sequence Alignment and Folding Jobs"
   ]
  },
  {
   "cell_type": "markdown",
   "metadata": {},
   "source": [
    "List available job queues"
   ]
  },
  {
   "cell_type": "code",
   "execution_count": 4,
   "metadata": {},
   "outputs": [
    {
     "data": {
      "text/plain": [
       "['G4dnJobQueue', 'GravitonOnDemandJobQueue', 'GravitonSpotJobQueue']"
      ]
     },
     "execution_count": 4,
     "metadata": {},
     "output_type": "execute_result"
    }
   ],
   "source": [
    "batch_environment.list_job_queue_names()"
   ]
  },
  {
   "cell_type": "markdown",
   "metadata": {},
   "source": [
    "Submit jackHMMER job"
   ]
  },
  {
   "cell_type": "code",
   "execution_count": 5,
   "metadata": {},
   "outputs": [],
   "source": [
    "job_name = target.target_id + \"_JackhmmerJob_\" + datetime.now().strftime(\"%Y%m%d%s\")\n",
    "jackhmmer_job = JackhmmerJob(\n",
    "    job_name=job_name,\n",
    "    target_id=target.target_id,\n",
    "    fasta_s3_uri=target.get_fasta_s3_uri(),\n",
    "    output_s3_uri=target.get_msas_s3_uri(),\n",
    "    boto_session=boto_session,\n",
    "    cpu=16,\n",
    "    memory=31,\n",
    ")\n",
    "jackhmmer_submission = batch_environment.submit_job(\n",
    "    jackhmmer_job, job_queue_name=\"GravitonSpotJobQueue\"\n",
    ")"
   ]
  },
  {
   "cell_type": "markdown",
   "metadata": {},
   "source": [
    "Submit OpenFold job"
   ]
  },
  {
   "cell_type": "code",
   "execution_count": 6,
   "metadata": {},
   "outputs": [],
   "source": [
    "job_name = target.target_id + \"_OpenFoldJob_\" + datetime.now().strftime(\"%Y%m%d%s\")\n",
    "openfold_job = OpenFoldJob(\n",
    "    job_name=job_name,    \n",
    "    target_id=target.target_id,\n",
    "    fasta_s3_uri=target.get_fasta_s3_uri(),\n",
    "    msa_s3_uri=target.get_msas_s3_uri(),\n",
    "    output_s3_uri=target.get_predictions_s3_uri() + \"/\" + job_name,\n",
    "    boto_session=boto_session,\n",
    "    cpu=4,\n",
    "    memory=15,  # Why not 16? ECS needs about 1 GB for container services\n",
    "    gpu=1,\n",
    ")\n",
    "openfold_submission = batch_environment.submit_job(\n",
    "    openfold_job, job_queue_name=\"G4dnJobQueue\", depends_on=[jackhmmer_submission]\n",
    ")"
   ]
  },
  {
   "cell_type": "markdown",
   "metadata": {},
   "source": [
    "Submit AlphaFold2 job"
   ]
  },
  {
   "cell_type": "code",
   "execution_count": 7,
   "metadata": {},
   "outputs": [],
   "source": [
    "job_name = target.target_id + \"_AlphaFold2Job_\" + datetime.now().strftime(\"%Y%m%d%s\")\n",
    "alphafold2_job = AlphaFold2Job(\n",
    "    job_name=job_name,\n",
    "    target_id=target.target_id,\n",
    "    fasta_s3_uri=target.get_fasta_s3_uri(),\n",
    "    msa_s3_uri=target.get_msas_s3_uri(),\n",
    "    output_s3_uri=target.get_predictions_s3_uri() + \"/\" + job_name,\n",
    "    boto_session=boto_session,\n",
    "    cpu=4,\n",
    "    memory=15,  # Why not 16? ECS needs about 1 GB for container services\n",
    "    gpu=1,\n",
    ")\n",
    "alphafold2_submission = batch_environment.submit_job(\n",
    "    alphafold2_job, job_queue_name=\"G4dnJobQueue\", depends_on=[jackhmmer_submission]\n",
    ")"
   ]
  },
  {
   "cell_type": "markdown",
   "metadata": {},
   "source": [
    "Submit OmegaFold job"
   ]
  },
  {
   "cell_type": "code",
   "execution_count": 10,
   "metadata": {},
   "outputs": [],
   "source": [
    "job_name = target.target_id + \"_OmegaFoldJob_\" + datetime.now().strftime(\"%Y%m%d%s\")\n",
    "omegafold_job = OmegaFoldJob(\n",
    "    job_name=job_name,\n",
    "    target_id=target.target_id,\n",
    "    fasta_s3_uri=target.get_fasta_s3_uri(),\n",
    "    output_s3_uri=target.get_predictions_s3_uri() + \"/\" + job_name,\n",
    "    boto_session=boto_session,\n",
    "    cpu=4,\n",
    "    memory=15,  # Why not 16? ECS needs about 1 GB for container services\n",
    "    gpu=1,\n",
    ")\n",
    "omegafold_submission = batch_environment.submit_job(\n",
    "    omegafold_job, job_queue_name=\"G4dnJobQueue\"\n",
    ")"
   ]
  },
  {
   "cell_type": "markdown",
   "metadata": {},
   "source": [
    "Submit ESMFold job"
   ]
  },
  {
   "cell_type": "code",
   "execution_count": 11,
   "metadata": {},
   "outputs": [],
   "source": [
    "job_name = target.target_id + \"_ESMFoldJob_\" + datetime.now().strftime(\"%Y%m%d%s\")\n",
    "esmfold_job = ESMFoldJob(\n",
    "    job_name=job_name,\n",
    "    target_id=target.target_id,\n",
    "    fasta_s3_uri=target.get_fasta_s3_uri(),\n",
    "    output_s3_uri=target.get_predictions_s3_uri() + \"/\" + job_name,\n",
    "    boto_session=boto_session,\n",
    "    cpu=8,\n",
    "    memory=31,  # Why not 32? ECS needs about 1 GB for container services\n",
    "    gpu=1,\n",
    ")\n",
    "esmfold_submission = batch_environment.submit_job(\n",
    "    esmfold_job, job_queue_name=\"G4dnJobQueue\"\n",
    ")"
   ]
  },
  {
   "cell_type": "markdown",
   "metadata": {},
   "source": [
    "Check on job statuses"
   ]
  },
  {
   "cell_type": "code",
   "execution_count": 12,
   "metadata": {},
   "outputs": [
    {
     "name": "stdout",
     "output_type": "stream",
     "text": [
      "Job 7FCC_JackhmmerJob_202212211671630902 is in status RUNNABLE\n",
      "Job 7FCC_OpenFoldJob_202212211671630905 is in status PENDING\n",
      "Job 7FCC_AlphaFold2Job_202212211671630906 is in status PENDING\n",
      "Job 7FCC_OmegaFoldJob_202212211671630908 is in status RUNNABLE\n",
      "Job 7FCC_ESMFoldJob_202212211671630909 is in status RUNNABLE\n"
     ]
    }
   ],
   "source": [
    "for job in [jackhmmer_job, openfold_job, alphafold2_job, omegafold_job, esmfold_job]:\n",
    "    print(\n",
    "        f\"Job {job.describe_job()[0]['jobName']} is in status {job.describe_job()[0]['status']}\"\n",
    "    )"
   ]
  },
  {
   "cell_type": "markdown",
   "metadata": {},
   "source": [
    "## 3. Download and Visualize Results"
   ]
  },
  {
   "cell_type": "markdown",
   "metadata": {},
   "source": [
    "Once the jobs are finished, download and view the results"
   ]
  },
  {
   "cell_type": "markdown",
   "metadata": {},
   "source": [
    "### Plot Alignment Data"
   ]
  },
  {
   "cell_type": "code",
   "execution_count": null,
   "metadata": {},
   "outputs": [],
   "source": [
    "target = BatchFoldTarget(\n",
    "    target_id=target_id, s3_bucket=S3_BUCKET, boto_session=boto_session\n",
    ")"
   ]
  },
  {
   "cell_type": "code",
   "execution_count": null,
   "metadata": {},
   "outputs": [],
   "source": [
    "target.download_msas(local_path=\"data\")\n",
    "utils.plot_msa_output_folder(\n",
    "    path=f\"data/{target_id}/msas/jackhmmer\", id=target_id\n",
    ")"
   ]
  },
  {
   "cell_type": "markdown",
   "metadata": {},
   "source": [
    "### Plot Predicted Structures"
   ]
  },
  {
   "cell_type": "markdown",
   "metadata": {},
   "source": [
    "Plot OpenFold prediction"
   ]
  },
  {
   "cell_type": "code",
   "execution_count": null,
   "metadata": {},
   "outputs": [],
   "source": [
    "last_job_name = target.get_last_job_name(job_type=\"OpenFold\")\n",
    "\n",
    "print(f\"Downloading results for job {last_job_name}\")\n",
    "target.download_predictions(local_path=\"data\", job=last_job_name)\n",
    "\n",
    "print(f\"Displaying predicted structure for job {last_job_name}\")\n",
    "pdb = f\"data/{target_id}/predictions/{last_job_name}/{target_id}_model_1_ptm_relaxed.pdb\"\n",
    "utils.plot_banded_pdb(pdb, width=500, height=300)\n",
    "\n",
    "pkl = f\"data/{target_id}/predictions/{last_job_name}/{target_id}_model_1_ptm_output_dict.pkl\"\n",
    "pae_results = np.load(pkl, allow_pickle=True)[\"predicted_aligned_error\"]\n",
    "utils.plot_metrics(pdb, pae_results)"
   ]
  },
  {
   "cell_type": "markdown",
   "metadata": {},
   "source": [
    "Plot AlphaFold2 prediction"
   ]
  },
  {
   "cell_type": "code",
   "execution_count": null,
   "metadata": {},
   "outputs": [],
   "source": [
    "last_job_name = target.get_last_job_name(job_type=\"AlphaFold2\")\n",
    "\n",
    "print(f\"Downloading results for job {last_job_name}\")\n",
    "target.download_predictions(local_path=\"data\", job=last_job_name)\n",
    "\n",
    "print(\"Identifying best model\")\n",
    "best_model_name = utils.get_best_alphafold_model(f\"data/{target_id}/predictions/{last_job_name}/ranking_debug.json\")\n",
    "\n",
    "print(f\"Displaying predicted structure for model {best_model_name}\")\n",
    "pdb = f\"data/{target_id}/predictions/{last_job_name}/ranked_0.pdb\"\n",
    "utils.plot_banded_pdb(pdb)\n",
    "\n",
    "pkl = f\"data/{target_id}/predictions/{last_job_name}/result_{best_model_name}.pkl\"\n",
    "pae_results = np.load(pkl, allow_pickle=True)[\"predicted_aligned_error\"]\n",
    "utils.plot_metrics(pdb, pae_results)"
   ]
  },
  {
   "cell_type": "markdown",
   "metadata": {},
   "source": [
    "Plot OmegaFold prediction"
   ]
  },
  {
   "cell_type": "code",
   "execution_count": null,
   "metadata": {},
   "outputs": [],
   "source": [
    "last_job_name = target.get_last_job_name(job_type=\"OmegaFold\")\n",
    "\n",
    "print(f\"Downloading results for job {last_job_name}\")\n",
    "target.download_predictions(local_path=\"data\", job=last_job_name)\n",
    "\n",
    "print(f\"Displaying predicted structure for job {last_job_name}\")\n",
    "pdb = f\"data/{target_id}/predictions/{last_job_name}/{target_id}.pdb\"\n",
    "utils.plot_banded_pdb(pdb)\n",
    "utils.plot_metrics(pdb)"
   ]
  },
  {
   "cell_type": "markdown",
   "metadata": {},
   "source": [
    "Plot ESMFold prediction"
   ]
  },
  {
   "cell_type": "code",
   "execution_count": null,
   "metadata": {},
   "outputs": [],
   "source": [
    "last_job_name = target.get_last_job_name(job_type=\"ESMFold\")\n",
    "\n",
    "print(f\"Downloading results for job {last_job_name}\")\n",
    "target.download_predictions(local_path=\"data\", job=last_job_name)\n",
    "\n",
    "print(f\"Displaying predicted structure for job {last_job_name}\")\n",
    "pdb = f\"data/{target_id}/predictions/{last_job_name}/{target_id}.pdb\"\n",
    "utils.plot_banded_pdb(pdb)\n",
    "utils.plot_metrics(pdb)"
   ]
  },
  {
   "cell_type": "code",
   "execution_count": null,
   "metadata": {},
   "outputs": [],
   "source": []
  }
 ],
 "metadata": {
  "accelerator": "GPU",
  "colab": {
   "collapsed_sections": [],
   "name": "AlphaFold.ipynb",
   "private_outputs": true,
   "provenance": []
  },
  "kernelspec": {
   "display_name": "Python 3.8.10 ('.venv': venv)",
   "language": "python",
   "name": "python3"
  },
  "language_info": {
   "codemirror_mode": {
    "name": "ipython",
    "version": 3
   },
   "file_extension": ".py",
   "mimetype": "text/x-python",
   "name": "python",
   "nbconvert_exporter": "python",
   "pygments_lexer": "ipython3",
   "version": "3.8.10 (default, Nov 16 2021, 13:43:50) \n[Clang 13.0.0 (clang-1300.0.29.3)]"
  },
  "vscode": {
   "interpreter": {
    "hash": "a1e60809b7f0a82b562ad10373da343921f7f222b56c39f24f5ac5a3d051206d"
   }
  }
 },
 "nbformat": 4,
 "nbformat_minor": 0
}
