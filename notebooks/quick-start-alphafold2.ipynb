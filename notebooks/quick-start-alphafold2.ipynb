{
 "cells": [
  {
   "cell_type": "markdown",
   "metadata": {},
   "source": [
    "Copyright Amazon.com, Inc. or its affiliates. All Rights Reserved.\n",
    "SPDX-License-Identifier: Apache-2.0"
   ]
  },
  {
   "cell_type": "markdown",
   "metadata": {
    "id": "pc5-mbsX9PZC"
   },
   "source": [
    "# Quick Start: Running AlphaFold2 on AWS Batch"
   ]
  },
  {
   "cell_type": "markdown",
   "metadata": {},
   "source": [
    "## Table of Contents\n",
    "0. [Install Dependencies](#0.-Install-Dependencies)\n",
    "1. [Create Target](#1.-Create-Target)\n",
    "2. [Submit Sequence Alignment and Folding Jobs](#2.-Submit-Sequence-Alignment-and-Folding-Jobs) \n",
    "3. [Download results](#3.-Download-results)\n",
    "4. [Visualze results](#4.-Visualize-results)"
   ]
  },
  {
   "cell_type": "markdown",
   "metadata": {},
   "source": [
    "## 0. Install Dependencies"
   ]
  },
  {
   "cell_type": "code",
   "execution_count": 1,
   "metadata": {},
   "outputs": [
    {
     "name": "stdout",
     "output_type": "stream",
     "text": [
      " S3 bucket name is batch-protein-folding-220802-co-batchfolds3bucket-s40zpnlg8lj1\n"
     ]
    }
   ],
   "source": [
    "# Import required Python packages\n",
    "\n",
    "import boto3\n",
    "from datetime import datetime\n",
    "from batchfold.batchfold_environment import BatchFoldEnvironment\n",
    "from batchfold.alphafold2_job import AlphaFold2Job\n",
    "from batchfold.batchfold_target import BatchFoldTarget\n",
    "from batchfold.jackhmmer_job import JackhmmerJob\n",
    "import matplotlib.pyplot as plt\n",
    "from nbhelpers import nbhelpers\n",
    "\n",
    "# Create AWS clients\n",
    "boto_session = boto3.session.Session()\n",
    "batch_environment = BatchFoldEnvironment(boto_session = boto_session)\n",
    "\n",
    "S3_BUCKET = batch_environment.default_bucket\n",
    "print(f\" S3 bucket name is {S3_BUCKET}\")"
   ]
  },
  {
   "cell_type": "markdown",
   "metadata": {
    "id": "W4JpOs6oA-QS"
   },
   "source": [
    "## 1. Create Target"
   ]
  },
  {
   "cell_type": "code",
   "execution_count": 2,
   "metadata": {},
   "outputs": [
    {
     "data": {
      "text/plain": [
       "'s3://batch-protein-folding-220802-co-batchfolds3bucket-s40zpnlg8lj1/7VNA/fastas/7VNA.fasta'"
      ]
     },
     "execution_count": 2,
     "metadata": {},
     "output_type": "execute_result"
    }
   ],
   "source": [
    "target_id = \"7VNA\"\n",
    "target = BatchFoldTarget(target_id=target_id, s3_bucket=S3_BUCKET)\n",
    "target.add_sequence(\n",
    "    seq_id=target_id,\n",
    "    seq=\"GSIPHKENMFKSKHKLDFSLVSMDQRGKHILGYADAELVNMGGYDLVHYDDLAYVASAHQELLKTGASGMIAYRYQKKDGEWQWLQTSSRLVYKNSKPDFVICTHRQLMDEEGHDLLGKR\",\n",
    "    description=\"Chain A|Ahr homolog spineless|Drosophila melanogaster\",\n",
    ")"
   ]
  },
  {
   "cell_type": "markdown",
   "metadata": {},
   "source": [
    "## 2. Submit Sequence Alignment and Folding Jobs"
   ]
  },
  {
   "cell_type": "code",
   "execution_count": 3,
   "metadata": {},
   "outputs": [],
   "source": [
    "jackhmmer_job_name = target.target_id + \"_JackhmmerJob_\" + datetime.now().strftime(\"%Y%m%d%s\")\n",
    "jackhmmer_job = JackhmmerJob(\n",
    "        job_name = jackhmmer_job_name,\n",
    "        target_id = target.target_id,\n",
    "        fasta_s3_uri = target.get_fasta_s3_uri(),\n",
    "        output_s3_uri = target.get_msas_s3_uri(),\n",
    "        boto_session = boto_session,\n",
    "        cpu = 16,\n",
    "        memory = 32\n",
    "    )\n",
    "\n",
    "alphafold2_job_name = target.target_id + \"_AlphaFold2Job_\" + datetime.now().strftime(\"%Y%m%d%s\")\n",
    "alphafold2_job = AlphaFold2Job(\n",
    "    job_name = alphafold2_job_name,\n",
    "    boto_session = boto_session,\n",
    "    target_id = target.target_id,\n",
    "    fasta_s3_uri = target.get_fasta_s3_uri(),\n",
    "    msa_s3_uri = target.get_msas_s3_uri()+\"/jackhmmer\",\n",
    "    output_s3_uri = target.get_predictions_s3_uri() + \"/\" + alphafold2_job_name,\n",
    "    use_precomputed_msas = True,\n",
    "    model_preset = \"monomer_ptm\",    \n",
    "    benchmark = True,\n",
    "    cpu = 4,\n",
    "    memory = 15, # Why not 16? ECS needs about 1 GB for container services\n",
    "    gpu = 1\n",
    ")\n",
    "\n",
    "jackhmmer_submission = batch_environment.submit_job(jackhmmer_job, job_queue_name=\"GravitonSpotJobQueue\")\n",
    "alphafold2_submission = batch_environment.submit_job(alphafold2_job, job_queue_name=\"G4dnJobQueue\", depends_on=[jackhmmer_submission])"
   ]
  },
  {
   "cell_type": "markdown",
   "metadata": {},
   "source": [
    "Check on job statuses"
   ]
  },
  {
   "cell_type": "code",
   "execution_count": 5,
   "metadata": {},
   "outputs": [
    {
     "name": "stdout",
     "output_type": "stream",
     "text": [
      "Job 7VNA_JackhmmerJob_202208041659625986 is in status SUCCEEDED\n",
      "Job 7VNA_AlphaFold2Job_202208041659625986 is in status SUCCEEDED\n"
     ]
    }
   ],
   "source": [
    "for job in [jackhmmer_job, alphafold2_job]:\n",
    "    print(f\"Job {job.describe_job()[0]['jobName']} is in status {job.describe_job()[0]['status']}\")"
   ]
  },
  {
   "cell_type": "markdown",
   "metadata": {},
   "source": [
    "## 3. Download Results"
   ]
  },
  {
   "cell_type": "markdown",
   "metadata": {},
   "source": [
    "Once the jobs are finished, download the results"
   ]
  },
  {
   "cell_type": "code",
   "execution_count": 6,
   "metadata": {},
   "outputs": [
    {
     "name": "stdout",
     "output_type": "stream",
     "text": [
      "1 files downloaded from s3.\n",
      "6 files downloaded from s3.\n",
      "5 files downloaded from s3.\n",
      "0 files downloaded from s3.\n",
      "23 files downloaded from s3.\n",
      "3 files downloaded from s3.\n",
      "3 files downloaded from s3.\n",
      "3 files downloaded from s3.\n",
      "0 files downloaded from s3.\n",
      "0 files downloaded from s3.\n",
      "0 files downloaded from s3.\n"
     ]
    },
    {
     "data": {
      "text/plain": [
       "'/Users/bloyal/batch-protein-folding/notebooks/data'"
      ]
     },
     "execution_count": 6,
     "metadata": {},
     "output_type": "execute_result"
    }
   ],
   "source": [
    "target = BatchFoldTarget(target_id=target_id, s3_bucket=S3_BUCKET, boto_session=boto_session)\n",
    "target.download_all(local_path=\"data\")"
   ]
  },
  {
   "cell_type": "markdown",
   "metadata": {},
   "source": [
    "## 4. Visualize Results"
   ]
  },
  {
   "cell_type": "markdown",
   "metadata": {},
   "source": [
    "### Plot Alignment Data"
   ]
  },
  {
   "cell_type": "code",
   "execution_count": 7,
   "metadata": {},
   "outputs": [
    {
     "name": "stdout",
     "output_type": "stream",
     "text": [
      "6145 Sequences Found in uniref90\n",
      "483 Sequences Found in mgnify\n",
      "\n",
      "6608 Sequences Found in Total\n",
      "\n"
     ]
    },
    {
     "data": {
      "image/png": "[encoded data removed]",
      "text/plain": [
       "<Figure size 864x216 with 1 Axes>"
      ]
     },
     "metadata": {
      "needs_background": "light"
     },
     "output_type": "display_data"
    }
   ],
   "source": [
    "plt = nbhelpers.msa_plot(target_id, f\"data/{target_id}/msas/jackhmmer\")\n",
    "plt.show()"
   ]
  },
  {
   "cell_type": "markdown",
   "metadata": {},
   "source": [
    "### Plot Predicted Structure"
   ]
  },
  {
   "cell_type": "code",
   "execution_count": 8,
   "metadata": {},
   "outputs": [
    {
     "ename": "KeyError",
     "evalue": "'predicted_aligned_error'",
     "output_type": "error",
     "traceback": [
      "\u001b[0;31m---------------------------------------------------------------------------\u001b[0m",
      "\u001b[0;31mKeyError\u001b[0m                                  Traceback (most recent call last)",
      "\u001b[1;32m/Users/bloyal/batch-protein-folding/notebooks/quick-start-alphafold2.ipynb Cell 19\u001b[0m in \u001b[0;36m<cell line: 2>\u001b[0;34m()\u001b[0m\n\u001b[1;32m      <a href='vscode-notebook-cell:/Users/bloyal/batch-protein-folding/notebooks/quick-start-alphafold2.ipynb#ch0000018?line=0'>1</a>\u001b[0m last_job_name \u001b[39m=\u001b[39m target\u001b[39m.\u001b[39mlist_job_names(job_type\u001b[39m=\u001b[39m\u001b[39m\"\u001b[39m\u001b[39mAlphaFold2\u001b[39m\u001b[39m\"\u001b[39m)[\u001b[39m0\u001b[39m]\n\u001b[0;32m----> <a href='vscode-notebook-cell:/Users/bloyal/batch-protein-folding/notebooks/quick-start-alphafold2.ipynb#ch0000018?line=1'>2</a>\u001b[0m nbhelpers\u001b[39m.\u001b[39;49mpdb_plot(pdb_path \u001b[39m=\u001b[39;49m \u001b[39mf\u001b[39;49m\u001b[39m\"\u001b[39;49m\u001b[39mdata/\u001b[39;49m\u001b[39m{\u001b[39;49;00mtarget_id\u001b[39m}\u001b[39;49;00m\u001b[39m/predictions/\u001b[39;49m\u001b[39m{\u001b[39;49;00mlast_job_name\u001b[39m}\u001b[39;49;00m\u001b[39m\"\u001b[39;49m, show_sidechains\u001b[39m=\u001b[39;49m\u001b[39mFalse\u001b[39;49;00m)\u001b[39m.\u001b[39mshow()\n",
      "File \u001b[0;32m~/batch-protein-folding/notebooks/nbhelpers/nbhelpers.py:165\u001b[0m, in \u001b[0;36mpdb_plot\u001b[0;34m(pdb_path, show_sidechains)\u001b[0m\n\u001b[1;32m    161\u001b[0m pkl_file \u001b[39m=\u001b[39m list_files_by_extension(extension\u001b[39m=\u001b[39m\u001b[39m\"\u001b[39m\u001b[39m.pkl\u001b[39m\u001b[39m\"\u001b[39m, \u001b[39mdir\u001b[39m\u001b[39m=\u001b[39mpdb_path)[\u001b[39m0\u001b[39m]\n\u001b[1;32m    162\u001b[0m result \u001b[39m=\u001b[39m np\u001b[39m.\u001b[39mload(pkl_file, allow_pickle\u001b[39m=\u001b[39m\u001b[39mTrue\u001b[39;00m)\n\u001b[1;32m    164\u001b[0m pae_outputs \u001b[39m=\u001b[39m (\n\u001b[0;32m--> 165\u001b[0m       result[\u001b[39m'\u001b[39;49m\u001b[39mpredicted_aligned_error\u001b[39;49m\u001b[39m'\u001b[39;49m],\n\u001b[1;32m    166\u001b[0m       result[\u001b[39m'\u001b[39m\u001b[39mmax_predicted_aligned_error\u001b[39m\u001b[39m'\u001b[39m]\n\u001b[1;32m    167\u001b[0m   )\n\u001b[1;32m    169\u001b[0m \u001b[39m# Construct multiclass b-factors to indicate confidence bands\u001b[39;00m\n\u001b[1;32m    170\u001b[0m \u001b[39m# 0=very low, 1=low, 2=confident, 3=very high    \u001b[39;00m\n\u001b[1;32m    171\u001b[0m relaxed_pdb \u001b[39m=\u001b[39m list_files_by_extension(extension\u001b[39m=\u001b[39m\u001b[39m\"\u001b[39m\u001b[39m_relaxed.pdb\u001b[39m\u001b[39m\"\u001b[39m, \u001b[39mdir\u001b[39m\u001b[39m=\u001b[39mpdb_path)[\u001b[39m0\u001b[39m]\n",
      "\u001b[0;31mKeyError\u001b[0m: 'predicted_aligned_error'"
     ]
    }
   ],
   "source": [
    "last_job_name = target.list_job_names(job_type=\"AlphaFold2\")[0]\n",
    "nbhelpers.pdb_plot(pdb_path = f\"data/{target_id}/predictions/{last_job_name}\", show_sidechains=False).show()"
   ]
  },
  {
   "cell_type": "code",
   "execution_count": 9,
   "metadata": {},
   "outputs": [
    {
     "ename": "ValueError",
     "evalue": "need at least one array to concatenate",
     "output_type": "error",
     "traceback": [
      "\u001b[0;31m---------------------------------------------------------------------------\u001b[0m",
      "\u001b[0;31mValueError\u001b[0m                                Traceback (most recent call last)",
      "\u001b[1;32m/Users/bloyal/batch-protein-folding/notebooks/quick-start-alphafold2.ipynb Cell 20\u001b[0m in \u001b[0;36m<cell line: 6>\u001b[0;34m()\u001b[0m\n\u001b[1;32m      <a href='vscode-notebook-cell:/Users/bloyal/batch-protein-folding/notebooks/quick-start-alphafold2.ipynb#ch0000025?line=1'>2</a>\u001b[0m \u001b[39mimport\u001b[39;00m \u001b[39mpy3Dmol\u001b[39;00m\n\u001b[1;32m      <a href='vscode-notebook-cell:/Users/bloyal/batch-protein-folding/notebooks/quick-start-alphafold2.ipynb#ch0000025?line=3'>4</a>\u001b[0m last_alphafold_job_name \u001b[39m=\u001b[39m target\u001b[39m.\u001b[39mlist_job_names(job_type\u001b[39m=\u001b[39m\u001b[39m\"\u001b[39m\u001b[39mAlphaFold\u001b[39m\u001b[39m\"\u001b[39m)[\u001b[39m0\u001b[39m]\n\u001b[0;32m----> <a href='vscode-notebook-cell:/Users/bloyal/batch-protein-folding/notebooks/quick-start-alphafold2.ipynb#ch0000025?line=5'>6</a>\u001b[0m alphafold_alignment \u001b[39m=\u001b[39m tmscoring\u001b[39m.\u001b[39;49mTMscoring(\n\u001b[1;32m      <a href='vscode-notebook-cell:/Users/bloyal/batch-protein-folding/notebooks/quick-start-alphafold2.ipynb#ch0000025?line=6'>7</a>\u001b[0m     \u001b[39mf\u001b[39;49m\u001b[39m\"\u001b[39;49m\u001b[39mdata/\u001b[39;49m\u001b[39m{\u001b[39;49;00mtarget\u001b[39m.\u001b[39;49mtarget_id\u001b[39m}\u001b[39;49;00m\u001b[39m/predictions/\u001b[39;49m\u001b[39m{\u001b[39;49;00mlast_alphafold_job_name\u001b[39m}\u001b[39;49;00m\u001b[39m/ranked_0.pdb\u001b[39;49m\u001b[39m\"\u001b[39;49m,\n\u001b[1;32m      <a href='vscode-notebook-cell:/Users/bloyal/batch-protein-folding/notebooks/quick-start-alphafold2.ipynb#ch0000025?line=7'>8</a>\u001b[0m     \u001b[39mf\u001b[39;49m\u001b[39m\"\u001b[39;49m\u001b[39mdata/pdb/\u001b[39;49m\u001b[39m{\u001b[39;49;00mtarget\u001b[39m.\u001b[39;49mtarget_id\u001b[39m}\u001b[39;49;00m\u001b[39m.pdb\u001b[39;49m\u001b[39m\"\u001b[39;49m\n\u001b[1;32m      <a href='vscode-notebook-cell:/Users/bloyal/batch-protein-folding/notebooks/quick-start-alphafold2.ipynb#ch0000025?line=8'>9</a>\u001b[0m     )\n\u001b[1;32m     <a href='vscode-notebook-cell:/Users/bloyal/batch-protein-folding/notebooks/quick-start-alphafold2.ipynb#ch0000025?line=10'>11</a>\u001b[0m \u001b[39m# Find the optimal alignment\u001b[39;00m\n\u001b[1;32m     <a href='vscode-notebook-cell:/Users/bloyal/batch-protein-folding/notebooks/quick-start-alphafold2.ipynb#ch0000025?line=11'>12</a>\u001b[0m alphafold_alignment\u001b[39m.\u001b[39moptimise()\n",
      "File \u001b[0;32m~/batch-protein-folding/.venv/lib/python3.8/site-packages/tmscoring/tmscore.py:31\u001b[0m, in \u001b[0;36mAligning.__init__\u001b[0;34m(self, pdb_1, pdb_2, mode, chain_1, chain_2, d0s)\u001b[0m\n\u001b[1;32m     29\u001b[0m     \u001b[39mself\u001b[39m\u001b[39m.\u001b[39m_load_data_alignment(chain_1, chain_2)\n\u001b[1;32m     30\u001b[0m \u001b[39melif\u001b[39;00m mode \u001b[39m==\u001b[39m \u001b[39m'\u001b[39m\u001b[39mindex\u001b[39m\u001b[39m'\u001b[39m:\n\u001b[0;32m---> 31\u001b[0m     \u001b[39mself\u001b[39;49m\u001b[39m.\u001b[39;49m_load_data_index(chain_1, chain_2)\n\u001b[1;32m     32\u001b[0m \u001b[39melse\u001b[39;00m:\n\u001b[1;32m     33\u001b[0m     \u001b[39mraise\u001b[39;00m \u001b[39mValueError\u001b[39;00m(\u001b[39m'\u001b[39m\u001b[39mUnrecognised mode \u001b[39m\u001b[39m{}\u001b[39;00m\u001b[39m'\u001b[39m\u001b[39m.\u001b[39mformat(mode))\n",
      "File \u001b[0;32m~/batch-protein-folding/.venv/lib/python3.8/site-packages/tmscoring/tmscore.py:287\u001b[0m, in \u001b[0;36mAligning._load_data_index\u001b[0;34m(self, chain1, chain2)\u001b[0m\n\u001b[1;32m    285\u001b[0m         \u001b[39m# Remove from index to avoid repeated residues\u001b[39;00m\n\u001b[1;32m    286\u001b[0m         indexes1\u001b[39m.\u001b[39mremove(r\u001b[39m.\u001b[39mid[\u001b[39m1\u001b[39m])\n\u001b[0;32m--> 287\u001b[0m coord1 \u001b[39m=\u001b[39m np\u001b[39m.\u001b[39;49mhstack(coord1)\u001b[39m.\u001b[39mastype(DTYPE, copy\u001b[39m=\u001b[39m\u001b[39mFalse\u001b[39;00m)\n\u001b[1;32m    289\u001b[0m coord2 \u001b[39m=\u001b[39m []\n\u001b[1;32m    290\u001b[0m \u001b[39mfor\u001b[39;00m r \u001b[39min\u001b[39;00m residues2:\n",
      "File \u001b[0;32m<__array_function__ internals>:180\u001b[0m, in \u001b[0;36mhstack\u001b[0;34m(*args, **kwargs)\u001b[0m\n",
      "File \u001b[0;32m~/batch-protein-folding/.venv/lib/python3.8/site-packages/numpy/core/shape_base.py:345\u001b[0m, in \u001b[0;36mhstack\u001b[0;34m(tup)\u001b[0m\n\u001b[1;32m    343\u001b[0m     \u001b[39mreturn\u001b[39;00m _nx\u001b[39m.\u001b[39mconcatenate(arrs, \u001b[39m0\u001b[39m)\n\u001b[1;32m    344\u001b[0m \u001b[39melse\u001b[39;00m:\n\u001b[0;32m--> 345\u001b[0m     \u001b[39mreturn\u001b[39;00m _nx\u001b[39m.\u001b[39;49mconcatenate(arrs, \u001b[39m1\u001b[39;49m)\n",
      "File \u001b[0;32m<__array_function__ internals>:180\u001b[0m, in \u001b[0;36mconcatenate\u001b[0;34m(*args, **kwargs)\u001b[0m\n",
      "\u001b[0;31mValueError\u001b[0m: need at least one array to concatenate"
     ]
    }
   ],
   "source": [
    "import tmscoring\n",
    "import py3Dmol\n",
    "\n",
    "last_alphafold_job_name = target.list_job_names(job_type=\"AlphaFold\")[0]\n",
    "\n",
    "alphafold_alignment = tmscoring.TMscoring(\n",
    "    f\"data/{target.target_id}/predictions/{last_alphafold_job_name}/ranked_0.pdb\",\n",
    "    f\"data/pdb/{target.target_id}.pdb\"\n",
    "    )\n",
    "\n",
    "# Find the optimal alignment\n",
    "alphafold_alignment.optimise()\n",
    "\n",
    "# Get the TM score:\n",
    "tm_score = alphafold_alignment.tmscore(**alphafold_alignment.get_current_values())\n",
    "print(f\"TM score is {tm_score}\")\n",
    "\n",
    "# Save the aligned files:\n",
    "alphafold_alignment.write(outputfile='alphafold_alignment.pdb', appended=True)\n",
    "\n",
    "with open(\"alphafold_alignment.pdb\") as f:\n",
    "    aligned_pdb = f.read()\n",
    "\n",
    "view = py3Dmol.view(width=800, height=600)\n",
    "view.addModels(aligned_pdb)\n",
    "\n",
    "for n, chain, color in zip(range(2), [\"A\",\"B\",\"C\",], [\"red\", \"blue\", \"green\"]):\n",
    "    view.setStyle({\"chain\": chain}, {\"cartoon\": {\"color\": color}}).zoomTo()\n",
    "view.show()\n"
   ]
  },
  {
   "cell_type": "code",
   "execution_count": 10,
   "metadata": {},
   "outputs": [],
   "source": [
    "import numpy as np\n",
    "import os\n",
    "def tmscore(x,y):\n",
    "  # save to dumpy pdb files\n",
    "  for n,z in enumerate([x,y]): \n",
    "    out = open(f\"{n}.pdb\",\"w\")\n",
    "    for k,c in enumerate(z):\n",
    "      out.write(\"ATOM  %5d  %-2s  %3s %s%4d    %8.3f%8.3f%8.3f  %4.2f  %4.2f\\n\" \n",
    "                  % (k+1,\"CA\",\"ALA\",\"A\",k+1,c[0],c[1],c[2],1,0))\n",
    "    out.close()\n",
    "  # pass to TMscore\n",
    "  output = os.popen('./TMscore 0.pdb 1.pdb')\n",
    "  # parse outputs\n",
    "  parse_float = lambda x: float(x.split(\"=\")[1].split()[0])\n",
    "  o = {}\n",
    "  for line in output:\n",
    "    line = line.rstrip()\n",
    "    if line.startswith(\"RMSD\"): o[\"rms\"] = parse_float(line)\n",
    "    if line.startswith(\"TM-score\"): o[\"tms\"] = parse_float(line)\n",
    "    if line.startswith(\"GDT-TS-score\"): o[\"gdt\"] = parse_float(line)\n",
    "  return o"
   ]
  },
  {
   "cell_type": "code",
   "execution_count": null,
   "metadata": {},
   "outputs": [],
   "source": []
  }
 ],
 "metadata": {
  "accelerator": "GPU",
  "colab": {
   "collapsed_sections": [],
   "name": "AlphaFold.ipynb",
   "private_outputs": true,
   "provenance": []
  },
  "kernelspec": {
   "display_name": "Python 3.8.10 ('.venv': venv)",
   "language": "python",
   "name": "python3"
  },
  "language_info": {
   "codemirror_mode": {
    "name": "ipython",
    "version": 3
   },
   "file_extension": ".py",
   "mimetype": "text/x-python",
   "name": "python",
   "nbconvert_exporter": "python",
   "pygments_lexer": "ipython3",
   "version": "3.8.10"
  },
  "vscode": {
   "interpreter": {
    "hash": "a1e60809b7f0a82b562ad10373da343921f7f222b56c39f24f5ac5a3d051206d"
   }
  }
 },
 "nbformat": 4,
 "nbformat_minor": 0
}
