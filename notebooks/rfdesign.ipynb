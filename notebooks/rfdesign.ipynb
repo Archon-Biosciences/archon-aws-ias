{
 "cells": [
  {
   "cell_type": "markdown",
   "metadata": {},
   "source": [
    "Copyright Amazon.com, Inc. or its affiliates. All Rights Reserved.\n",
    "SPDX-License-Identifier: Apache-2.0"
   ]
  },
  {
   "cell_type": "markdown",
   "metadata": {
    "id": "pc5-mbsX9PZC"
   },
   "source": [
    "# Generating New Protein Sequences with RFDesign"
   ]
  },
  {
   "cell_type": "markdown",
   "metadata": {},
   "source": [
    "Based on https://github.com/RosettaCommons/RFDesign/blob/main/tutorials/halluc_PD-L1_binder/halluc_PD-L1_binder.ipynb"
   ]
  },
  {
   "cell_type": "markdown",
   "metadata": {},
   "source": [
    "## Table of Contents\n",
    "0. [Install Dependencies](#0.-install-dependencies)\n",
    "1. [Download Reference Structures](#1.-download-reference-structures)\n",
    "2. [Submit Hallucination Jobs](#2.-submit-hallucination-jobs) \n",
    "3. [Submit Inpainting Jobs](#3.-submit-inpainting-jobs)"
   ]
  },
  {
   "cell_type": "markdown",
   "metadata": {},
   "source": [
    "## 0. Install Dependencies"
   ]
  },
  {
   "cell_type": "code",
   "execution_count": null,
   "metadata": {},
   "outputs": [],
   "source": [
    "%pip install -U -r notebook-requirements.txt"
   ]
  },
  {
   "cell_type": "code",
   "execution_count": null,
   "metadata": {},
   "outputs": [],
   "source": [
    "# Import required Python packages\n",
    "import boto3\n",
    "from batchfold.batchfold_environment import BatchFoldEnvironment\n",
    "from batchfold.rfdesign_job import RFDesignHallucinateJob, RFDesignInpaintJob\n",
    "from batchfold.utils import utils\n",
    "from Bio.PDB import PDBParser, PDBIO, Selection\n",
    "from Bio.PDB.PDBList import PDBList\n",
    "from datetime import datetime\n",
    "from IPython import display\n",
    "import matplotlib.pyplot as plt\n",
    "import os\n",
    "import numpy as np\n",
    "import py3Dmol\n",
    "\n",
    "# Create AWS clients\n",
    "boto_session = boto3.session.Session()\n",
    "s3 = boto_session.client(\"s3\")\n",
    "batch_environment = BatchFoldEnvironment(boto_session=boto_session)\n",
    "\n",
    "S3_BUCKET = batch_environment.default_bucket\n",
    "print(f\" S3 bucket name is {S3_BUCKET}\")"
   ]
  },
  {
   "cell_type": "markdown",
   "metadata": {
    "id": "W4JpOs6oA-QS"
   },
   "source": [
    "## 1. Download Reference Structures"
   ]
  },
  {
   "cell_type": "code",
   "execution_count": null,
   "metadata": {},
   "outputs": [],
   "source": [
    "pdb_code = \"4ZQK\"\n",
    "output_dir = \"data/rfdesign/pd1-demo\"\n",
    "file_format=\"pdb\"\n",
    "pdbl = PDBList()\n",
    "os.makedirs(output_dir, exist_ok=True)\n",
    "ent_filename = pdbl.retrieve_pdb_file(\n",
    "    pdb_code=pdb_code, file_format=file_format, pdir=output_dir, overwrite=True\n",
    ")\n",
    "p = PDBParser(QUIET=True)\n",
    "structure = p.get_structure(pdb_code, ent_filename)\n",
    "Chain_A, Chain_B = Selection.unfold_entities(structure, \"C\")\n",
    "io=PDBIO()\n",
    "io.set_structure(Chain_A)\n",
    "io.save(\"data/rfdesign/pd1-demo/pdl1.pdb\")\n",
    "io.set_structure(Chain_B)\n",
    "io.save(\"data/rfdesign/pd1-demo/pd1.pdb\")\n",
    "\n",
    "s3.upload_file(\"data/rfdesign/pd1-demo/pdl1.pdb\", S3_BUCKET, \"pd1-demo/pdl1.pdb\")\n",
    "s3.upload_file(\"data/rfdesign/pd1-demo/pd1.pdb\", S3_BUCKET, \"pd1-demo/pd1.pdb\")"
   ]
  },
  {
   "cell_type": "markdown",
   "metadata": {},
   "source": [
    "View the structure of our backbone target: PD1"
   ]
  },
  {
   "cell_type": "code",
   "execution_count": null,
   "metadata": {},
   "outputs": [],
   "source": [
    "view = py3Dmol.view(\"data/rfdesign/pd1-demo/pd1.pdb\", width=200, height=200)\n",
    "view.setViewStyle({'style':'outline','color':'black','width':0.1})\n",
    "view.setStyle({'cartoon':{'color':'spectrum'}})\n",
    "view.zoomTo()\n",
    "view.show()"
   ]
  },
  {
   "cell_type": "markdown",
   "metadata": {},
   "source": [
    "## 2. Submit Hallucination Jobs"
   ]
  },
  {
   "cell_type": "code",
   "execution_count": null,
   "metadata": {},
   "outputs": [],
   "source": [
    "total_num = 20\n",
    "batch = 5 \n",
    "mask = '25-35,B63-82,15-25,B119-140,0-15' \n",
    "hallucinate_job_prefix = \"RFDesignHallucinateJob\" + datetime.now().strftime(\"%Y%m%d%s\")\n",
    "job_queue_name = \"G4dnJobQueue\"\n",
    "\n",
    "for istart in np.arange(0, total_num, batch):\n",
    "    job_name = f\"{hallucinate_job_prefix}_{istart}\"\n",
    "    params = {\n",
    "        \"mask\": mask,\n",
    "        \"steps\": \"g10\",\n",
    "        \"num\": batch,\n",
    "        \"start_num\": istart,\n",
    "        \"w_rog\": 1,\n",
    "        \"rog_thresh\": 16,\n",
    "        \"w_rep\": 2,\n",
    "        \"rep_pdb\": \"input/pdl1.pdb\",\n",
    "        \"rep_sigma\": 4,\n",
    "        \"save_pdb\": True,\n",
    "        \"track_step\": 10\n",
    "    }\n",
    "    \n",
    "    new_job = RFDesignHallucinateJob(\n",
    "        boto_session=boto_session,\n",
    "        job_name = job_name,\n",
    "        target_id = \"4ZQK\",\n",
    "        input_s3_uri = f\"s3://{S3_BUCKET}/pd1-demo/\",\n",
    "        output_s3_uri = f\"s3://{S3_BUCKET}/{job_name}/\",\n",
    "        pdb = \"input/pd1.pdb\",\n",
    "        params = params\n",
    "    )\n",
    "    print(f\"Submitting {job_name}\")\n",
    "    submission = batch_environment.submit_job(new_job, job_queue_name)"
   ]
  },
  {
   "cell_type": "markdown",
   "metadata": {},
   "source": [
    "Download hallucinated sequences"
   ]
  },
  {
   "cell_type": "code",
   "execution_count": null,
   "metadata": {},
   "outputs": [],
   "source": [
    "bucket_resource = boto_session.resource('s3').Bucket(S3_BUCKET)\n",
    "items = [obj for obj in bucket_resource.objects.filter(Prefix=hallucinate_job_prefix) if obj.key.endswith(\".fas\") ]\n",
    "for item in items:\n",
    "    print(item.get()['Body'].read().decode('utf-8'))"
   ]
  },
  {
   "cell_type": "markdown",
   "metadata": {},
   "source": [
    "## 3. Submit Inpainting Jobs"
   ]
  },
  {
   "cell_type": "code",
   "execution_count": null,
   "metadata": {},
   "outputs": [],
   "source": [
    "job_name = \"RFDesignInpaintingJob\" + datetime.now().strftime(\"%Y%m%d%s\")\n",
    "job_queue_name = \"G4dnJobQueue\"\n",
    "params = {\n",
    "    \"contigs\":\"25-35,B63-82,15-25,B119-140,0-15\",\n",
    "    \"len\": \"80-115\",\n",
    "    \"num_designs\": 4,\n",
    "    \"dump_all\": True,\n",
    "}\n",
    "new_job = RFDesignInpaintJob(\n",
    "    boto_session=boto_session,\n",
    "    job_name = job_name,\n",
    "    target_id = \"4ZQK\",\n",
    "    input_s3_uri = f\"s3://{S3_BUCKET}/pd1-demo/\",\n",
    "    output_s3_uri = f\"s3://{S3_BUCKET}/{job_name}/\",\n",
    "    pdb = \"input/pd1.pdb\",\n",
    "    params = params\n",
    ")\n",
    "print(f\"Submitting {job_name}\")\n",
    "submission = batch_environment.submit_job(new_job, job_queue_name)"
   ]
  },
  {
   "cell_type": "markdown",
   "metadata": {},
   "source": [
    "View infilled structures"
   ]
  },
  {
   "cell_type": "code",
   "execution_count": null,
   "metadata": {},
   "outputs": [],
   "source": [
    "bucket_resource = boto_session.resource('s3').Bucket(S3_BUCKET)\n",
    "items = [obj for obj in bucket_resource.objects.filter(Prefix=job_name) if obj.key.endswith(\".pdb\") ]\n",
    "structures = []\n",
    "for item in items:\n",
    "    print(item.key)\n",
    "    pdb_txt = item.get()['Body'].read().decode('utf-8')\n",
    "    structures.append(pdb_txt)\n",
    "total_cols = 2\n",
    "total_rows = round(len(structures) / total_cols)\n",
    "view = py3Dmol.view(viewergrid=(total_rows,total_cols))\n",
    "view.removeAllModels()\n",
    "i = 0\n",
    "for j in range(total_rows):\n",
    "    for k in range(total_cols):\n",
    "        view.addModel(structures[i], 'pdb', viewer=(j,k))\n",
    "        view.setStyle({'stick':{'colorscheme':'amino'}})   \n",
    "        i += 1\n",
    "view.zoomTo()\n",
    "view.show()"
   ]
  },
  {
   "cell_type": "code",
   "execution_count": null,
   "metadata": {},
   "outputs": [],
   "source": []
  }
 ],
 "metadata": {
  "accelerator": "GPU",
  "colab": {
   "collapsed_sections": [],
   "name": "AlphaFold.ipynb",
   "private_outputs": true,
   "provenance": []
  },
  "kernelspec": {
   "display_name": "Python 3.8.10 ('.venv': venv)",
   "language": "python",
   "name": "python3"
  },
  "language_info": {
   "codemirror_mode": {
    "name": "ipython",
    "version": 3
   },
   "file_extension": ".py",
   "mimetype": "text/x-python",
   "name": "python",
   "nbconvert_exporter": "python",
   "pygments_lexer": "ipython3",
   "version": "3.8.10"
  },
  "vscode": {
   "interpreter": {
    "hash": "a1e60809b7f0a82b562ad10373da343921f7f222b56c39f24f5ac5a3d051206d"
   }
  }
 },
 "nbformat": 4,
 "nbformat_minor": 0
}
