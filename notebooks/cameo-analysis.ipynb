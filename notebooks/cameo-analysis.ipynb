{
 "cells": [
  {
   "cell_type": "markdown",
   "metadata": {},
   "source": [
    "Copyright Amazon.com, Inc. or its affiliates. All Rights Reserved.\n",
    "SPDX-License-Identifier: Apache-2.0"
   ]
  },
  {
   "cell_type": "markdown",
   "metadata": {
    "id": "pc5-mbsX9PZC"
   },
   "source": [
    "# Using the AWS Batch Architecture for Protein Folding\n",
    "\n",
    "This notebook allows you to predict multiple protein sequences from the CAMEO data set between 2022-04-08 and 2022-07-02"
   ]
  },
  {
   "cell_type": "markdown",
   "metadata": {},
   "source": [
    "## Table of Contents\n",
    "0. [Install Dependencies](#0.-Install-Dependencies)\n",
    "1. [Get target list](#1.-Get-target-list)\n",
    "2. [Run MSA generation and folding jobs](#2.-Run-MSA-generation-and-folding-jobs) \n",
    "3. [Download results](#3.-Download-results)\n",
    "4. [Visualze results](#4.-Visualize-results)\n",
    "5. [Compare result to experimental structure](#5.-Compare-result-to-experimental-structure)"
   ]
  },
  {
   "cell_type": "markdown",
   "metadata": {},
   "source": [
    "## 0. Install Dependencies"
   ]
  },
  {
   "cell_type": "code",
   "execution_count": null,
   "metadata": {},
   "outputs": [],
   "source": [
    "# Import required Python packages\n",
    "\n",
    "import boto3\n",
    "from datetime import datetime\n",
    "from batchfold.batchfold_environment import BatchFoldEnvironment\n",
    "from batchfold.jackhmmer_job import JackhmmerJob\n",
    "from batchfold.openfold_job import OpenFoldJob\n",
    "from batchfold.alphafold2_job import AlphaFold2Job\n",
    "from batchfold.batchfold_target import BatchFoldTarget\n",
    "import matplotlib.pyplot as plt\n",
    "from nbhelpers import nbhelpers\n",
    "import os\n",
    "import json\n",
    "import pandas as pd\n",
    "import requests\n",
    "\n",
    "# Get client information\n",
    "boto_session = boto3.session.Session()\n",
    "batch_environment = BatchFoldEnvironment(boto_session = boto_session)\n",
    "\n",
    "S3_BUCKET = batch_environment.default_bucket\n",
    "print(f\" S3 bucket name is {S3_BUCKET}\")\n",
    "\n",
    "s3 = boto_session.client(\"s3\")"
   ]
  },
  {
   "cell_type": "markdown",
   "metadata": {
    "id": "W4JpOs6oA-QS"
   },
   "source": [
    "## 1. Get targets"
   ]
  },
  {
   "cell_type": "code",
   "execution_count": null,
   "metadata": {},
   "outputs": [],
   "source": [
    "targets = pd.read_csv(\"cameo_benchmarking_targets.csv\", header=0)    "
   ]
  },
  {
   "cell_type": "markdown",
   "metadata": {},
   "source": [
    "## 2. Run MSA and Folding Jobs"
   ]
  },
  {
   "cell_type": "code",
   "execution_count": null,
   "metadata": {},
   "outputs": [],
   "source": [
    "import requests \n",
    "from Bio import SeqIO\n",
    "from io import StringIO\n",
    "\n",
    "for _, row in targets.iterrows():\n",
    "    print(row[\"SEQ_ID\"])\n",
    "    target = BatchFoldTarget(target_id=row[\"SEQ_ID\"], s3_bucket=S3_BUCKET, boto_session=boto_session)    \n",
    "    fasta_string = requests.get(row[\"SEQ_URL\"]).content.decode(\"utf-8\")\n",
    "    with StringIO(fasta_string) as fasta:\n",
    "        for record in SeqIO.parse(fasta, \"fasta\"):\n",
    "            target.add_sequence(\n",
    "                seq_id=row[\"SEQ_ID\"],\n",
    "                seq=str(record.seq),\n",
    "                description=record.description\n",
    "            )\n",
    "\n",
    "    job_name = target.target_id + \"_JackhmmerJob_\" + datetime.now().strftime(\"%Y%m%d%s\")\n",
    "    jackhmmer_job = JackhmmerJob(\n",
    "        job_name = job_name,\n",
    "        target_id = target.target_id,\n",
    "        fasta_s3_uri = target.get_fasta_s3_uri(),\n",
    "        output_s3_uri = target.get_msas_s3_uri(),\n",
    "        boto_session = boto_session,\n",
    "        cpu = 16,\n",
    "        memory = 31\n",
    "    )\n",
    "\n",
    "    job_name = target.target_id + \"_OpenFoldJob_\" + datetime.now().strftime(\"%Y%m%d%s\")\n",
    "    openfold_job = OpenFoldJob(\n",
    "        job_name = job_name,\n",
    "        boto_session = boto_session,\n",
    "        target_id = target.target_id,\n",
    "        fasta_s3_uri = target.get_fasta_s3_uri(),\n",
    "        msa_s3_uri = target.get_msas_s3_uri()+\"/jackhmmer/\",\n",
    "        output_s3_uri = target.get_predictions_s3_uri() + \"/\" + job_name,\n",
    "        use_precomputed_msas = True,\n",
    "        config_preset = \"finetuning_ptm\",\n",
    "        openfold_checkpoint_path = \"openfold_params/finetuning_ptm_2.pt\",\n",
    "        save_outputs = True,\n",
    "        cpu = 4,\n",
    "        memory = 15, # Why not 16? ECS needs about 1 GB for container services\n",
    "        gpu = 1\n",
    "    )\n",
    "\n",
    "    job_name = target.target_id + \"_AlphaFold2Job_\" + datetime.now().strftime(\"%Y%m%d%s\")\n",
    "    alphafold2_job = AlphaFold2Job(\n",
    "        job_name = job_name,\n",
    "        boto_session = boto_session,\n",
    "        target_id = target.target_id,\n",
    "        fasta_s3_uri = target.get_fasta_s3_uri(),\n",
    "        msa_s3_uri = target.get_msas_s3_uri()+\"/jackhmmer\",\n",
    "        output_s3_uri = target.get_predictions_s3_uri() + \"/\" + job_name,\n",
    "        use_precomputed_msas = True,\n",
    "        model_preset = \"monomer_ptm\",    \n",
    "        benchmark = True,\n",
    "        cpu = 4,\n",
    "        memory = 15, # Why not 16? ECS needs about 1 GB for container services\n",
    "        gpu = 1\n",
    "    )    \n",
    "\n",
    "    jackhmmer_submission = batch_environment.submit_job(jackhmmer_job, job_queue_name=\"GravitonOnDemandJobQueue\")\n",
    "\n",
    "    openfold_submission = batch_environment.submit_job(openfold_job, job_queue_name=\"G4dnJobQueue\", depends_on=[jackhmmer_submission])\n",
    "    alphafold2_submission = batch_environment.submit_job(alphafold2_job, job_queue_name=\"G4dnJobQueue\", depends_on=[jackhmmer_submission])    \n",
    "\n"
   ]
  },
  {
   "cell_type": "markdown",
   "metadata": {},
   "source": [
    "## 3. Compare results to experimental structures"
   ]
  },
  {
   "cell_type": "markdown",
   "metadata": {},
   "source": [
    "### Install TMscore"
   ]
  },
  {
   "cell_type": "code",
   "execution_count": null,
   "metadata": {},
   "outputs": [],
   "source": [
    "%%bash\n",
    "wget -qnc https://zhanggroup.org/TM-score/TMscore.cpp\n",
    "g++ -O3 -ffast-math -lm -o TMscore TMscore.cpp"
   ]
  },
  {
   "cell_type": "markdown",
   "metadata": {},
   "source": [
    "### Get Results"
   ]
  },
  {
   "cell_type": "code",
   "execution_count": null,
   "metadata": {},
   "outputs": [],
   "source": [
    "results = {}\n",
    "for _, row in targets.iterrows():\n",
    "    target_id = row[\"SEQ_ID\"]\n",
    "    print(target_id)\n",
    "    target_results = {}\n",
    "    # target_results[\"target_id\"] = target_id\n",
    "    target = BatchFoldTarget(target_id=target_id, s3_bucket=S3_BUCKET, boto_session=boto_session)\n",
    "    os.makedirs(f\"/Users/bloyal/batch-protein-folding/notebooks/data/{target.target_id}/\", exist_ok=True)\n",
    "\n",
    "    # Get experimental pdb\n",
    "    pdb_string = requests.get(row[\"PDB_URL\"]).content.decode(\"utf-8\")\n",
    "    experimental_pdb = f\"data/{target.target_id}/{target_id}.pdb\"\n",
    "    with open(experimental_pdb, \"w\") as f:\n",
    "        f.write(pdb_string)\n",
    "\n",
    "    try:\n",
    "        #  OpenFold\n",
    "        ## Get .pdb\n",
    "        of_pdb = f\"data/{target.target_id}/{target.target_id}_OpenFold_finetuning_ptm_relaxed.pdb\"\n",
    "        s3.download_file(S3_BUCKET, f\"{target.target_id}/predictions/{target.get_last_job_name(job_type='OpenFold')}/{target.target_id}_finetuning_ptm_relaxed.pdb\", of_pdb)\n",
    "\n",
    "        ## Get timings\n",
    "        of_timings = nbhelpers.get_openfold_timings_for_job_name(batch_environment, target.get_last_job_name(job_type='OpenFold'))\n",
    "        target_results.update(of_timings)\n",
    "\n",
    "        ## Calculate TS_GDT\n",
    "        of_score_results = nbhelpers.run_tmscore(of_pdb, experimental_pdb)\n",
    "        print(f\"OpenFold TS_GDT Score: {of_score_results['gdt']}\")\n",
    "        target_results.update({\"openfold_gdt\": of_score_results['gdt']})            \n",
    "    except:\n",
    "        None\n",
    "\n",
    "    try:\n",
    "        # AlphaFold2\n",
    "        ## Get .pdb\n",
    "        af_pdb = f\"data/{target.target_id}/ranked_0.pdb\"\n",
    "        s3.download_file(S3_BUCKET, f\"{target.target_id}/predictions/{target.get_last_job_name(job_type='AlphaFold2')}/ranked_0.pdb\", af_pdb)\n",
    "\n",
    "        ## Get timings\n",
    "        response = s3.get_object(Bucket=S3_BUCKET, Key=f\"{target.target_id}/predictions/{target.get_last_job_name(job_type='AlphaFold2')}/timings.json\")\n",
    "        body = response['Body'].read()\n",
    "        af_timings = json.loads(body)\n",
    "        target_results.update(af_timings)\n",
    "\n",
    "        ## Calculate TS_GDT\n",
    "        af_score_results = nbhelpers.run_tmscore(af_pdb, experimental_pdb)\n",
    "        print(f\"AlphaFold2 TS_GDT Score: {af_score_results['gdt']}\")\n",
    "        target_results.update({\"alphafold2_gdt\": af_score_results['gdt']})            \n",
    "    except:\n",
    "        None         \n",
    "\n",
    "    results[target_id] = target_results\n",
    "\n",
    "results_df = pd.DataFrame.from_dict(results, orient='index')"
   ]
  },
  {
   "cell_type": "code",
   "execution_count": null,
   "metadata": {},
   "outputs": [],
   "source": [
    "output_df = targets.merge(results_df, how=\"left\", left_on=\"SEQ_ID\", right_index = True)\n",
    "output_df.to_csv(\"cameo_results.csv\")"
   ]
  },
  {
   "cell_type": "markdown",
   "metadata": {},
   "source": [
    "-----"
   ]
  },
  {
   "cell_type": "markdown",
   "metadata": {},
   "source": [
    "Plot GDT scores vs experimental structures in PDB"
   ]
  },
  {
   "cell_type": "code",
   "execution_count": null,
   "metadata": {},
   "outputs": [],
   "source": [
    "results = pd.read_csv(\"cameo_results.csv\")"
   ]
  },
  {
   "cell_type": "code",
   "execution_count": null,
   "metadata": {},
   "outputs": [],
   "source": [
    "import matplotlib.pyplot as plt\n",
    "import numpy as np\n",
    "\n",
    "plt.style.use('seaborn')\n",
    "\n",
    "fig, ax = plt.subplots(figsize=(20,10))\n",
    "\n",
    "x = results[\"seq_length\"]\n",
    "y1 = results[\"openfold_gdt\"]\n",
    "y2 = results[\"alphafold2_gdt\"]\n",
    "ax.scatter(x, y1, label=\"OpenFold\")\n",
    "ax.scatter(x, y2, label=\"AlphaFold2\")\n",
    "\n",
    "X_line_coords = np.array([\n",
    "    results[\"seq_length\"],\n",
    "    results[\"seq_length\"]\n",
    "])\n",
    "Y_line_coords = np.array([\n",
    "    results[\"openfold_gdt\"],\n",
    "    results[\"alphafold2_gdt\"]\n",
    "])\n",
    "ax.plot(X_line_coords, Y_line_coords, color=\"gray\")\n",
    "\n",
    "ax.axhline(0.9, color=\"black\", linestyle=\"--\")\n",
    "ax.axhline(0.7, color=\"red\", linestyle=\"--\")\n",
    "ax.legend(frameon=True, facecolor=\"white\")\n",
    "ax.set_xlabel(\"Sequence Length (Residues)\")\n",
    "ax.set_ylabel(\"GDT_TS\")\n",
    "plt.title(\"OpenFold vs AlphaFold2 Accuracy on CAMEO Targets\", fontsize=18)\n",
    "plt.show()"
   ]
  },
  {
   "cell_type": "code",
   "execution_count": null,
   "metadata": {},
   "outputs": [],
   "source": [
    "for i in range(1,6):\n",
    "    results[f\"alphafold_time_{i}\"] = results[f\"alphafold_time_process_features_model_{i}_ptm_pred_0\"] + results[f\"alphafold_time_predict_and_compile_model_{i}_ptm_pred_0\"] + results[f\"alphafold_time_relax_model_{i}_ptm_pred_0\"]\n",
    "\n",
    "results[\"alphafold_time\"] = results[\"alphafold_time_1\"] + results[\"alphafold_time_2\"]+ results[\"alphafold_time_3\"]+ results[\"alphafold_time_4\"]+ results[\"alphafold_time_5\"]\n",
    "results[\"openfold_time\"] = results[\"openfold_inference_time\"] + results[\"openfold_relaxation\"]"
   ]
  },
  {
   "cell_type": "code",
   "execution_count": null,
   "metadata": {},
   "outputs": [],
   "source": [
    "import matplotlib.pyplot as plt\n",
    "import numpy as np\n",
    "\n",
    "plt.style.use('seaborn')\n",
    "\n",
    "fig, ax = plt.subplots(figsize=(20,10))\n",
    "\n",
    "x = results[\"seq_length\"]\n",
    "y1 = results[\"alphafold_time_1\"]\n",
    "y2 = results[\"alphafold_time_2\"]\n",
    "y3 = results[\"alphafold_time_3\"]\n",
    "y4 = results[\"alphafold_time_4\"]\n",
    "y5 = results[\"alphafold_time_5\"]\n",
    "y6 = results[\"openfold_time\"]\n",
    "\n",
    "width = 5\n",
    "\n",
    "ax.bar(x + width/2, y1, width, label=\"AlphaFold2 Model 1\")\n",
    "ax.bar(x + width/2, y2, width, bottom=y1, label=\"AlphaFold2 Model 2\")\n",
    "ax.bar(x + width/2, y3, width, bottom=y1+y2, label=\"AlphaFold2 Model 3\")\n",
    "ax.bar(x + width/2, y4, width, bottom=y1+y2+y3, label=\"AlphaFold2 Model 4\")\n",
    "ax.bar(x + width/2, y5, width, bottom=y1+y2+y3+y4, label=\"AlphaFold2 Model 5\")\n",
    "ax.bar(x - width/2, y6, width, label=\"OpenFold\")\n",
    "\n",
    "ax.legend(frameon=True, facecolor=\"white\")\n",
    "ax.set_xlabel(\"Sequence Length (Residues)\")\n",
    "ax.set_ylabel(\"Time (sec)\")\n",
    "plt.title(\"OpenFold vs AlphaFold2 Run Times on CAMEO Targets (By Model)\", fontsize=18)\n",
    "plt.show()"
   ]
  },
  {
   "cell_type": "code",
   "execution_count": null,
   "metadata": {},
   "outputs": [],
   "source": []
  }
 ],
 "metadata": {
  "accelerator": "GPU",
  "colab": {
   "collapsed_sections": [],
   "name": "AlphaFold.ipynb",
   "private_outputs": true,
   "provenance": []
  },
  "kernelspec": {
   "display_name": "Python 3.8.10 ('.venv': venv)",
   "language": "python",
   "name": "python3"
  },
  "language_info": {
   "codemirror_mode": {
    "name": "ipython",
    "version": 3
   },
   "file_extension": ".py",
   "mimetype": "text/x-python",
   "name": "python",
   "nbconvert_exporter": "python",
   "pygments_lexer": "ipython3",
   "version": "3.8.10"
  },
  "vscode": {
   "interpreter": {
    "hash": "a1e60809b7f0a82b562ad10373da343921f7f222b56c39f24f5ac5a3d051206d"
   }
  }
 },
 "nbformat": 4,
 "nbformat_minor": 0
}
