{
 "cells": [
  {
   "cell_type": "markdown",
   "metadata": {},
   "source": [
    "Copyright Amazon.com, Inc. or its affiliates. All Rights Reserved.\n",
    "SPDX-License-Identifier: Apache-2.0"
   ]
  },
  {
   "cell_type": "markdown",
   "metadata": {
    "id": "pc5-mbsX9PZC"
   },
   "source": [
    "# Using the AWS Batch Architecture for Protein Folding\n",
    "\n",
    "This notebook allows you to predict multiple protein sequences from the CAMEO data set between 2022-04-08 and 2022-07-02"
   ]
  },
  {
   "cell_type": "markdown",
   "metadata": {},
   "source": [
    "## Table of Contents\n",
    "0. [Install Dependencies](#0.-Install-Dependencies)\n",
    "1. [Run a monomer analysis job](#1.-Run-a-monomer-analysis-job)\n",
    "2. [Run a multimer analysis job](#2.-Run-a-multimer-analysis-job) \n",
    "3. [Analyze multiple proteins](#3.-Analyze-multiple-proteins)"
   ]
  },
  {
   "cell_type": "markdown",
   "metadata": {},
   "source": [
    "## 0. Install Dependencies"
   ]
  },
  {
   "cell_type": "code",
   "execution_count": 1,
   "metadata": {},
   "outputs": [
    {
     "name": "stdout",
     "output_type": "stream",
     "text": [
      " S3 bucket name is batch-protein-folding-2207169-c-batchfolds3bucket-13oducmieryqz\n"
     ]
    }
   ],
   "source": [
    "# Import required Python packages\n",
    "\n",
    "import boto3\n",
    "from datetime import datetime\n",
    "from batchfold.batchfold_environment import BatchFoldEnvironment\n",
    "from batchfold.jackhmmer_job import JackhmmerJob\n",
    "from batchfold.openfold_job import OpenFoldJob\n",
    "from batchfold.alphafold2_job import AlphaFold2Job\n",
    "from batchfold.batchfold_target import BatchFoldTarget\n",
    "import os\n",
    "\n",
    "# Get client informatiion\n",
    "\n",
    "boto_session = boto3.session.Session(profile_name=\"bloyal+proteinfolding-Admin\")\n",
    "batch_environment = BatchFoldEnvironment(boto_session = boto_session)\n",
    "\n",
    "S3_BUCKET = batch_environment.default_bucket\n",
    "print(f\" S3 bucket name is {S3_BUCKET}\")"
   ]
  },
  {
   "cell_type": "markdown",
   "metadata": {
    "id": "W4JpOs6oA-QS"
   },
   "source": [
    "## 1. Analyze Cameo targets"
   ]
  },
  {
   "cell_type": "code",
   "execution_count": null,
   "metadata": {},
   "outputs": [],
   "source": [
    "# from pathlib import Path\n",
    "data_dir = \"data/fasta/single-chain\"\n",
    "submission_info = {}\n",
    "\n",
    "for file in os.listdir(data_dir):\n",
    "    target_id = file.split(\".\")[0]\n",
    "    print(target_id)\n",
    "    target = BatchFoldTarget(target_id=target_id, s3_bucket=S3_BUCKET, boto_session=boto_session)\n",
    "    target.add_fasta(os.path.join(data_dir, file))\n",
    "    target.upload_fasta()\n",
    "\n",
    "    jackhmmer_job = JackhmmerJob(\n",
    "        job_name = target.target_id + \"_JackhmmerJob_\" + datetime.now().strftime(\"%Y%m%d%s\"),\n",
    "        target_id = target.target_id,\n",
    "        fasta_s3_uri = target.get_fasta_s3_uri(),\n",
    "        output_s3_uri = target.get_msas_s3_uri(),\n",
    "        boto_session = boto_session,\n",
    "        cpu = 16,\n",
    "        memory = 32\n",
    "    )\n",
    "\n",
    "    alphafold2_job = AlphaFold2Job(\n",
    "        job_name = target.target_id + \"_AlphaFold2Job_\" + datetime.now().strftime(\"%Y%m%d%s\"),\n",
    "        target_id = target.target_id,\n",
    "        fasta_s3_uri = target.get_fasta_s3_uri(),\n",
    "        msa_s3_uri = target.get_msas_s3_uri(),\n",
    "        output_s3_uri = target.get_predictions_s3_uri(),\n",
    "        use_precomputed_msas = True,\n",
    "        model_preset = \"monomer\",\n",
    "        boto_session = boto_session,\n",
    "        benchmark = True,\n",
    "        cpu = 4,\n",
    "        memory = 16,\n",
    "        gpu = 1\n",
    "    )\n",
    "\n",
    "    openfold_job = OpenFoldJob(\n",
    "        job_name = target.target_id + \"_OpenFoldJob_\" + datetime.now().strftime(\"%Y%m%d%s\"),\n",
    "        target_id = target.target_id,\n",
    "        fasta_s3_uri = target.get_fasta_s3_uri(),\n",
    "        msa_s3_uri = target.get_msas_s3_uri(),\n",
    "        output_s3_uri = target.get_predictions_s3_uri(),\n",
    "        use_precomputed_msas = True,\n",
    "        config_preset = \"finetuning_ptm\",\n",
    "        openfold_checkpoint_path = \"openfold_params/finetuning_ptm_1.pt\",\n",
    "        save_outputs = True,\n",
    "        boto_session = boto_session,\n",
    "        cpu = 4,\n",
    "        memory = 16,\n",
    "        gpu = 1\n",
    "    )\n",
    "\n",
    "    jackhmmer_submission = batch_environment.submit_job(jackhmmer_job, job_queue_name=\"GravitonSpotJobQueue\")\n",
    "    openfold_submission = batch_environment.submit_job(openfold_job, job_queue_name=\"G4dnJobQueue\", depends_on=[jackhmmer_submission])\n",
    "    alphafold2_submission = batch_environment.submit_job(alphafold2_job, job_queue_name=\"G4dnJobQueue\", depends_on=[jackhmmer_submission])    \n",
    "\n",
    "    submission_info[target.id] = [jackhmmer_submission, openfold_submission, alphafold2_submission]\n"
   ]
  },
  {
   "cell_type": "markdown",
   "metadata": {},
   "source": []
  }
 ],
 "metadata": {
  "accelerator": "GPU",
  "colab": {
   "collapsed_sections": [],
   "name": "AlphaFold.ipynb",
   "private_outputs": true,
   "provenance": []
  },
  "kernelspec": {
   "display_name": "Python 3.8.10 ('.venv': venv)",
   "language": "python",
   "name": "python3"
  },
  "language_info": {
   "codemirror_mode": {
    "name": "ipython",
    "version": 3
   },
   "file_extension": ".py",
   "mimetype": "text/x-python",
   "name": "python",
   "nbconvert_exporter": "python",
   "pygments_lexer": "ipython3",
   "version": "3.8.10"
  },
  "vscode": {
   "interpreter": {
    "hash": "a1e60809b7f0a82b562ad10373da343921f7f222b56c39f24f5ac5a3d051206d"
   }
  }
 },
 "nbformat": 4,
 "nbformat_minor": 0
}
