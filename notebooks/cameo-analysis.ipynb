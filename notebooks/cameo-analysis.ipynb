{
 "cells": [
  {
   "cell_type": "markdown",
   "metadata": {},
   "source": [
    "Copyright Amazon.com, Inc. or its affiliates. All Rights Reserved.\n",
    "SPDX-License-Identifier: Apache-2.0"
   ]
  },
  {
   "cell_type": "markdown",
   "metadata": {
    "id": "pc5-mbsX9PZC"
   },
   "source": [
    "# Using the AWS Batch Architecture for Protein Folding\n",
    "\n",
    "This notebook allows you to predict multiple protein sequences from the CAMEO data set between 2022-04-08 and 2022-07-02"
   ]
  },
  {
   "cell_type": "markdown",
   "metadata": {},
   "source": [
    "## Table of Contents\n",
    "0. [Install Dependencies](#0.-Install-Dependencies)\n",
    "1. [Get target list](#1.-Get-target-list)\n",
    "2. [Run MSA generation and folding jobs](#2.-Run-MSA-generation-and-folding-jobs) \n",
    "3. [Download results](#3.-Download-results)\n",
    "4. [Visualze results](#4.-Visualize-results)\n",
    "5. [Compare result to experimental structure](#5.-Compare-result-to-experimental-structure)"
   ]
  },
  {
   "cell_type": "markdown",
   "metadata": {},
   "source": [
    "## 0. Install Dependencies"
   ]
  },
  {
   "cell_type": "code",
   "execution_count": null,
   "metadata": {},
   "outputs": [],
   "source": [
    "# Import required Python packages\n",
    "\n",
    "import boto3\n",
    "from datetime import datetime\n",
    "from batchfold.batchfold_environment import BatchFoldEnvironment\n",
    "from batchfold.jackhmmer_job import JackhmmerJob\n",
    "from batchfold.openfold_job import OpenFoldJob\n",
    "from batchfold.alphafold2_job import AlphaFold2Job\n",
    "from batchfold.batchfold_target import BatchFoldTarget\n",
    "import matplotlib.pyplot as plt\n",
    "from nbhelpers import nbhelpers\n",
    "import os\n",
    "import json\n",
    "import pandas as pd\n",
    "import requests\n",
    "import numpy as np\n",
    "\n",
    "# Get client information\n",
    "boto_session = boto3.session.Session()\n",
    "batch_environment = BatchFoldEnvironment(boto_session=boto_session)\n",
    "\n",
    "S3_BUCKET = batch_environment.default_bucket\n",
    "print(f\" S3 bucket name is {S3_BUCKET}\")\n",
    "\n",
    "s3 = boto_session.client(\"s3\")"
   ]
  },
  {
   "cell_type": "markdown",
   "metadata": {
    "id": "W4JpOs6oA-QS"
   },
   "source": [
    "## 1. Get targets"
   ]
  },
  {
   "cell_type": "code",
   "execution_count": null,
   "metadata": {},
   "outputs": [],
   "source": [
    "targets = pd.read_csv(\"1_month_cameo_benchmarking_targets.csv\", header=0)"
   ]
  },
  {
   "cell_type": "markdown",
   "metadata": {},
   "source": [
    "## 2. Run MSA and Folding Jobs"
   ]
  },
  {
   "cell_type": "code",
   "execution_count": null,
   "metadata": {},
   "outputs": [],
   "source": [
    "import requests\n",
    "from Bio import SeqIO\n",
    "from io import StringIO\n",
    "\n",
    "for _, row in targets.iterrows():\n",
    "    print(row[\"SEQ_ID\"])\n",
    "    target = BatchFoldTarget(\n",
    "        target_id=row[\"SEQ_ID\"], s3_bucket=S3_BUCKET, boto_session=boto_session\n",
    "    )\n",
    "    fasta_string = requests.get(row[\"SEQ_URL\"]).content.decode(\"utf-8\")\n",
    "    with StringIO(fasta_string) as fasta:\n",
    "        for record in SeqIO.parse(fasta, \"fasta\"):\n",
    "            target.add_sequence(\n",
    "                seq_id=row[\"SEQ_ID\"],\n",
    "                seq=str(record.seq),\n",
    "                description=record.description,\n",
    "            )\n",
    "\n",
    "    job_name = target.target_id + \"_JackhmmerJob_\" + datetime.now().strftime(\"%Y%m%d%s\")\n",
    "    jackhmmer_job = JackhmmerJob(\n",
    "        job_name=job_name,\n",
    "        target_id=target.target_id,\n",
    "        fasta_s3_uri=target.get_fasta_s3_uri(),\n",
    "        output_s3_uri=target.get_msas_s3_uri(),\n",
    "        boto_session=boto_session,\n",
    "        cpu=16,\n",
    "        memory=31,\n",
    "    )\n",
    "\n",
    "    job_name = target.target_id + \"_OpenFoldJob_\" + datetime.now().strftime(\"%Y%m%d%s\")\n",
    "    openfold_job = OpenFoldJob(\n",
    "        job_name=job_name,\n",
    "        boto_session=boto_session,\n",
    "        target_id=target.target_id,\n",
    "        fasta_s3_uri=target.get_fasta_s3_uri(),\n",
    "        msa_s3_uri=target.get_msas_s3_uri(),\n",
    "        output_s3_uri=target.get_predictions_s3_uri() + \"/\" + job_name,\n",
    "        use_precomputed_msas=True,\n",
    "        config_preset=\"model_1_ptm\",\n",
    "        openfold_checkpoint_path=\"openfold_params/finetuning_ptm_2.pt\",\n",
    "        save_outputs=True,\n",
    "        cpu=4,\n",
    "        memory=15,  # Why not 16? ECS needs about 1 GB for container services\n",
    "        gpu=1,\n",
    "    )\n",
    "\n",
    "    job_name = (\n",
    "        target.target_id + \"_AlphaFold2Job_\" + datetime.now().strftime(\"%Y%m%d%s\")\n",
    "    )\n",
    "    alphafold2_job = AlphaFold2Job(\n",
    "        job_name=job_name,\n",
    "        boto_session=boto_session,\n",
    "        target_id=target.target_id,\n",
    "        fasta_s3_uri=target.get_fasta_s3_uri(),\n",
    "        msa_s3_uri=target.get_msas_s3_uri(),\n",
    "        output_s3_uri=target.get_predictions_s3_uri() + \"/\" + job_name,\n",
    "        use_precomputed_msas=True,\n",
    "        model_preset=\"monomer_ptm\",\n",
    "        benchmark=True,\n",
    "        cpu=4,\n",
    "        memory=15,  # Why not 16? ECS needs about 1 GB for container services\n",
    "        gpu=1,\n",
    "    )\n",
    "\n",
    "    jackhmmer_submission = batch_environment.submit_job(\n",
    "        jackhmmer_job, job_queue_name=\"GravitonOnDemandJobQueue\"\n",
    "    )\n",
    "\n",
    "    openfold_submission = batch_environment.submit_job(\n",
    "        openfold_job, job_queue_name=\"G4dnJobQueue\", depends_on=[jackhmmer_submission]\n",
    "    )\n",
    "    alphafold2_submission = batch_environment.submit_job(\n",
    "        alphafold2_job, job_queue_name=\"G4dnJobQueue\", depends_on=[jackhmmer_submission]\n",
    "    )"
   ]
  },
  {
   "cell_type": "markdown",
   "metadata": {},
   "source": [
    "## 3. Compare results to experimental structures"
   ]
  },
  {
   "cell_type": "markdown",
   "metadata": {},
   "source": [
    "### Install TMscore (if needed)"
   ]
  },
  {
   "cell_type": "code",
   "execution_count": null,
   "metadata": {},
   "outputs": [],
   "source": [
    "%%bash\n",
    "wget -qnc https://zhanggroup.org/TM-score/TMscore.cpp\n",
    "g++ -O3 -ffast-math -lm -o TMscore TMscore.cpp"
   ]
  },
  {
   "cell_type": "markdown",
   "metadata": {},
   "source": [
    "### Get Results"
   ]
  },
  {
   "cell_type": "code",
   "execution_count": null,
   "metadata": {},
   "outputs": [],
   "source": [
    "results = {}\n",
    "for _, row in targets.iterrows():\n",
    "    target_id = row[\"SEQ_ID\"]\n",
    "    print(target_id)\n",
    "    target_results = {}\n",
    "    target = BatchFoldTarget(\n",
    "        target_id=target_id, s3_bucket=S3_BUCKET, boto_session=boto_session\n",
    "    )\n",
    "    os.makedirs(\n",
    "        f\"/Users/bloyal/batch-protein-folding/notebooks/data/{target.target_id}/\",\n",
    "        exist_ok=True,\n",
    "    )\n",
    "\n",
    "    # Get experimental pdb\n",
    "    pdb_string = requests.get(row[\"PDB_URL\"]).content.decode(\"utf-8\")\n",
    "    experimental_pdb = f\"data/{target.target_id}/{target_id}.pdb\"\n",
    "    with open(experimental_pdb, \"w\") as f:\n",
    "        f.write(pdb_string)\n",
    "\n",
    "        # Get OpenFold .pdb\n",
    "        of_pdb = f\"data/{target.target_id}/{target.target_id}_OpenFold_model_1_ptm_relaxed.pdb\"\n",
    "        s3.download_file(\n",
    "            S3_BUCKET,\n",
    "            f\"{target.target_id}/predictions/{target.get_last_job_name(job_type='OpenFoldJob_202208')}/{target.target_id}_model_1_ptm_relaxed.pdb\",\n",
    "            of_pdb,\n",
    "        )\n",
    "\n",
    "        # Get OpenFold timings\n",
    "        response = s3.get_object(\n",
    "            Bucket=S3_BUCKET,\n",
    "            Key=f\"{target.target_id}/predictions/{target.get_last_job_name(job_type='OpenFoldJob_202208')}/timings.json\",\n",
    "        )\n",
    "        body = response[\"Body\"].read()\n",
    "        of_timings = json.loads(body)\n",
    "        target_results.update(of_timings)\n",
    "\n",
    "        # Calculate OpenFold TS_GDT\n",
    "        of_score_results = nbhelpers.run_tmscore(of_pdb, experimental_pdb)\n",
    "        print(f\"OpenFold GDT_TS Score: {of_score_results['gdt']}\")\n",
    "        target_results.update({\"openfold_gdt\": of_score_results[\"gdt\"]})\n",
    "\n",
    "        # Get AlphaFold2 .pdb\n",
    "        af_pdb = f\"data/{target.target_id}/ranked_0.pdb\"\n",
    "        s3.download_file(\n",
    "            S3_BUCKET,\n",
    "            f\"{target.target_id}/predictions/{target.get_last_job_name(job_type='AlphaFold2Job_202208')}/ranked_0.pdb\",\n",
    "            af_pdb,\n",
    "        )\n",
    "\n",
    "        # Get AlphaFold2 timings\n",
    "        response = s3.get_object(\n",
    "            Bucket=S3_BUCKET,\n",
    "            Key=f\"{target.target_id}/predictions/{target.get_last_job_name(job_type='AlphaFold2Job_202208')}/timings.json\",\n",
    "        )\n",
    "        body = response[\"Body\"].read()\n",
    "        af_timings = json.loads(body)\n",
    "        target_results.update(af_timings)\n",
    "\n",
    "        # CalculateAlphaFold2 TS_GDT\n",
    "        af_score_results = nbhelpers.run_tmscore(af_pdb, experimental_pdb)\n",
    "        print(f\"AlphaFold2 TS_GDT Score: {af_score_results['gdt']}\")\n",
    "        target_results.update({\"alphafold2_gdt\": af_score_results[\"gdt\"]})\n",
    "\n",
    "    results[target_id] = target_results\n",
    "\n",
    "results_df = pd.DataFrame.from_dict(results, orient=\"index\")"
   ]
  },
  {
   "cell_type": "code",
   "execution_count": null,
   "metadata": {},
   "outputs": [],
   "source": [
    "results = targets.merge(results_df, how=\"left\", left_on=\"SEQ_ID\", right_index=True)\n",
    "results.to_csv(\"1_month_cameo_results.csv\")"
   ]
  },
  {
   "cell_type": "markdown",
   "metadata": {},
   "source": [
    "### Plot GDT_TS scores vs experimental PDB structures"
   ]
  },
  {
   "cell_type": "code",
   "execution_count": null,
   "metadata": {},
   "outputs": [],
   "source": [
    "results = pd.read_csv(\"1_month_cameo_results.csv\")"
   ]
  },
  {
   "cell_type": "code",
   "execution_count": null,
   "metadata": {},
   "outputs": [],
   "source": [
    "plt.style.use(\"seaborn\")\n",
    "\n",
    "fig, ax = plt.subplots(figsize=(30, 10))\n",
    "\n",
    "x = results[\"SEQ_LENGTH\"]\n",
    "y1 = results[\"openfold_gdt\"]\n",
    "y2 = results[\"alphafold2_gdt\"]\n",
    "ax.scatter(x, y1, label=\"OpenFold\")\n",
    "ax.scatter(x, y2, label=\"AlphaFold2\")\n",
    "\n",
    "X_line_coords = np.array([x, x])\n",
    "Y_line_coords = np.array([y1, y2])\n",
    "ax.plot(X_line_coords, Y_line_coords, color=\"gray\")\n",
    "\n",
    "ax.axhline(0.9, color=\"black\", linestyle=\"--\")\n",
    "ax.axhline(0.7, color=\"red\", linestyle=\"--\")\n",
    "ax.legend(frameon=True, facecolor=\"white\")\n",
    "ax.set_xlabel(\"Sequence Length (Residues)\")\n",
    "ax.set_ylabel(\"GDT_TS\")\n",
    "plt.title(\"OpenFold vs AlphaFold2 Accuracy on CAMEO Targets\", fontsize=18)\n",
    "plt.show()\n",
    "\n",
    "print(f\"Mean OpenFold GDT_TS score is {round(results['openfold_gdt'].mean(), 2)}\")\n",
    "print(f\"Mean AlphaFold 2 GDT_TS score is {round(results['alphafold2_gdt'].mean(), 2)}\")\n",
    "percent_difference = (results[\"alphafold2_gdt\"] - results[\"openfold_gdt\"]) / results[\n",
    "    \"alphafold2_gdt\"\n",
    "]\n",
    "print(f\"Mean Percent GDT_TS Difference is {round(percent_difference.mean()*100,2)}%\")"
   ]
  },
  {
   "cell_type": "markdown",
   "metadata": {},
   "source": [
    "### Compare run times"
   ]
  },
  {
   "cell_type": "code",
   "execution_count": null,
   "metadata": {},
   "outputs": [],
   "source": [
    "for i in range(1, 6):\n",
    "    results[f\"alphafold_time_{i}\"] = (\n",
    "        results[f\"process_features_model_{i}_ptm_pred_0\"]\n",
    "        + results[f\"predict_and_compile_model_{i}_ptm_pred_0\"]\n",
    "        + results[f\"relax_model_{i}_ptm_pred_0\"]\n",
    "    )\n",
    "\n",
    "results[\"alphafold_time\"] = (\n",
    "    results[\"alphafold_time_1\"]\n",
    "    + results[\"alphafold_time_2\"]\n",
    "    + results[\"alphafold_time_3\"]\n",
    "    + results[\"alphafold_time_4\"]\n",
    "    + results[\"alphafold_time_5\"]\n",
    ")\n",
    "results[\"openfold_time\"] = results[\"inference\"] + results[\"relaxation\"]\n",
    "plt.style.use(\"seaborn\")\n",
    "\n",
    "fig, ax = plt.subplots(figsize=(30, 10))\n",
    "\n",
    "x = results[\"SEQ_LENGTH\"]\n",
    "y1 = results[\"alphafold_time_1\"] / 60\n",
    "y2 = results[\"alphafold_time_2\"] / 60\n",
    "y3 = results[\"alphafold_time_3\"] / 60\n",
    "y4 = results[\"alphafold_time_4\"] / 60\n",
    "y5 = results[\"alphafold_time_5\"] / 60\n",
    "y6 = results[\"openfold_time\"] / 60\n",
    "\n",
    "width = 4\n",
    "\n",
    "ax.bar(x + width / 2, y1, width, label=\"AlphaFold2 Model 1\")\n",
    "ax.bar(x + width / 2, y2, width, bottom=y1, label=\"AlphaFold2 Model 2\")\n",
    "ax.bar(x + width / 2, y3, width, bottom=y1 + y2, label=\"AlphaFold2 Model 3\")\n",
    "ax.bar(x + width / 2, y4, width, bottom=y1 + y2 + y3, label=\"AlphaFold2 Model 4\")\n",
    "ax.bar(x + width / 2, y5, width, bottom=y1 + y2 + y3 + y4, label=\"AlphaFold2 Model 5\")\n",
    "ax.bar(x - width / 2, y6, width, label=\"OpenFold\")\n",
    "\n",
    "ax.legend(frameon=True, facecolor=\"white\")\n",
    "ax.set_xlabel(\"Sequence Length (Residues)\")\n",
    "ax.set_ylabel(\"Time (minutes)\")\n",
    "plt.title(\"OpenFold vs AlphaFold2 Run Times on CAMEO Targets (By Model)\", fontsize=18)\n",
    "plt.show()\n",
    "\n",
    "time_difference = results[\"alphafold_time\"] - results[\"openfold_time\"]\n",
    "percent_time_difference = time_difference / results[\"alphafold_time\"]\n",
    "print(f\"Mean Percent Time Difference is {round(percent_time_difference.mean()*100,2)}%\")\n",
    "print(f\"Mean Run Cost Difference is ${round((time_difference * 0.526/3600).mean(),2)}\")"
   ]
  },
  {
   "cell_type": "code",
   "execution_count": null,
   "metadata": {},
   "outputs": [],
   "source": []
  }
 ],
 "metadata": {
  "accelerator": "GPU",
  "colab": {
   "collapsed_sections": [],
   "name": "AlphaFold.ipynb",
   "private_outputs": true,
   "provenance": []
  },
  "kernelspec": {
   "display_name": "Python 3.8.10 ('.venv': venv)",
   "language": "python",
   "name": "python3"
  },
  "language_info": {
   "codemirror_mode": {
    "name": "ipython",
    "version": 3
   },
   "file_extension": ".py",
   "mimetype": "text/x-python",
   "name": "python",
   "nbconvert_exporter": "python",
   "pygments_lexer": "ipython3",
   "version": "3.8.10"
  },
  "vscode": {
   "interpreter": {
    "hash": "a1e60809b7f0a82b562ad10373da343921f7f222b56c39f24f5ac5a3d051206d"
   }
  }
 },
 "nbformat": 4,
 "nbformat_minor": 0
}
