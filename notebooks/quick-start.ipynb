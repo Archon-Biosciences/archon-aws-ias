{
 "cells": [
  {
   "cell_type": "markdown",
   "metadata": {},
   "source": [
    "Copyright Amazon.com, Inc. or its affiliates. All Rights Reserved.\n",
    "SPDX-License-Identifier: Apache-2.0"
   ]
  },
  {
   "cell_type": "markdown",
   "metadata": {
    "id": "pc5-mbsX9PZC"
   },
   "source": [
    "# Using the AWS Batch Architecture for Protein Folding\n",
    "\n",
    "This notebook allows you to predict multiple protein sequences from the CAMEO data set between 2022-04-08 and 2022-07-02"
   ]
  },
  {
   "cell_type": "markdown",
   "metadata": {},
   "source": [
    "## Table of Contents\n",
    "0. [Install Dependencies](#0.-Install-Dependencies)\n",
    "1. [Get target list](#1.-Get-target-list)\n",
    "2. [Run MSA generation and folding jobs](#2.-Run-MSA-generation-and-folding-jobs) \n",
    "3. [Download results](#3.-Download-results)\n",
    "4. [Visualze results](#4.-Visualize-results)\n",
    "5. [Compare result to experimental structure](#5.-Compare-result-to-experimental-structure)"
   ]
  },
  {
   "cell_type": "markdown",
   "metadata": {},
   "source": [
    "## 0. Install Dependencies"
   ]
  },
  {
   "cell_type": "code",
   "execution_count": null,
   "metadata": {},
   "outputs": [],
   "source": [
    "%pip install -U git+https://github.com/brianloyal/tmscoring.git"
   ]
  },
  {
   "cell_type": "code",
   "execution_count": null,
   "metadata": {},
   "outputs": [],
   "source": [
    "# Import required Python packages\n",
    "\n",
    "import boto3\n",
    "from datetime import datetime\n",
    "from batchfold.batchfold_environment import BatchFoldEnvironment\n",
    "from batchfold.jackhmmer_job import JackhmmerJob\n",
    "from batchfold.openfold_job import OpenFoldJob\n",
    "from batchfold.alphafold2_job import AlphaFold2Job\n",
    "from batchfold.batchfold_target import BatchFoldTarget\n",
    "from batchfold.mmseqs2_job import MMseqs2Job\n",
    "import matplotlib.pyplot as plt\n",
    "from nbhelpers import nbhelpers\n",
    "import os\n",
    "\n",
    "# Get client information\n",
    "boto_session = boto3.session.Session()\n",
    "batch_environment = BatchFoldEnvironment(boto_session = boto_session)\n",
    "\n",
    "S3_BUCKET = batch_environment.default_bucket\n",
    "print(f\" S3 bucket name is {S3_BUCKET}\")"
   ]
  },
  {
   "cell_type": "markdown",
   "metadata": {
    "id": "W4JpOs6oA-QS"
   },
   "source": [
    "## 1. Get target list"
   ]
  },
  {
   "cell_type": "code",
   "execution_count": null,
   "metadata": {},
   "outputs": [],
   "source": [
    "pdb_list = [\"7Q4L_A\", \"7DUV_A\", \"7PP2_A\", \"7OIO_A\", \"7T9X_A\"]\n",
    "nbhelpers.get_pdb_data(pdb_list)"
   ]
  },
  {
   "cell_type": "markdown",
   "metadata": {},
   "source": [
    "## 2. Run MSA generation and folding jobs"
   ]
  },
  {
   "cell_type": "code",
   "execution_count": null,
   "metadata": {},
   "outputs": [],
   "source": [
    "from pathlib import Path\n",
    "data_dir = \"data/fasta\"\n",
    "\n",
    "for file in [ file for file in os.listdir(data_dir) if Path(file).suffix in [\".fa\", \".fasta\"] ]:\n",
    "    print(os.path.join(data_dir, file))\n",
    "    target_id = file.split(\".\")[0]\n",
    "    target = BatchFoldTarget(target_id=target_id, s3_bucket=S3_BUCKET, boto_session=boto_session)\n",
    "    target.add_fasta(os.path.join(data_dir, file))\n",
    "    target.upload_fasta()\n",
    "\n",
    "    jackhmmer_job_name = target.target_id + \"_JackhmmerJob_\" + datetime.now().strftime(\"%Y%m%d%s\")\n",
    "    jackhmmer_job = JackhmmerJob(\n",
    "            job_name = jackhmmer_job_name,\n",
    "            target_id = target.target_id,\n",
    "            fasta_s3_uri = target.get_fasta_s3_uri(),\n",
    "            output_s3_uri = target.get_msas_s3_uri(),\n",
    "            boto_session = boto_session,\n",
    "            cpu = 16,\n",
    "            memory = 32\n",
    "        )\n",
    "\n",
    "    alphafold2_job_name = target.target_id + \"_AlphaFold2Job_\" + datetime.now().strftime(\"%Y%m%d%s\")\n",
    "    alphafold2_job = AlphaFold2Job(\n",
    "        job_name = alphafold2_job_name,\n",
    "        boto_session = boto_session,\n",
    "        target_id = target.target_id,\n",
    "        fasta_s3_uri = target.get_fasta_s3_uri(),\n",
    "        msa_s3_uri = target.get_msas_s3_uri()+\"/jackhmmer\",\n",
    "        output_s3_uri = target.get_predictions_s3_uri() + \"/\" + alphafold2_job_name,\n",
    "        max_template_date = \"2022-01-01\",\n",
    "        use_precomputed_msas = True,\n",
    "        model_preset = \"monomer_ptm\",    \n",
    "        benchmark = True,\n",
    "        cpu = 4,\n",
    "        memory = 16,\n",
    "        gpu = 1\n",
    "    )\n",
    "\n",
    "    jackhmmer_submission = batch_environment.submit_job(jackhmmer_job, job_queue_name=\"GravitonSpotJobQueue\")\n",
    "    alphafold2_submission = batch_environment.submit_job(alphafold2_job, job_queue_name=\"G4dnJobQueue\", depends_on=[jackhmmer_submission])\n",
    "\n",
    "    mmseqs2_job_name = target.target_id + \"_MMseqs2Job_\" + datetime.now().strftime(\"%Y%m%d%s\")\n",
    "    mmseqs2_job = MMseqs2Job(\n",
    "            job_name = mmseqs2_job_name,\n",
    "            target_id = target.target_id,\n",
    "            fasta_s3_uri = target.get_fasta_s3_uri(),\n",
    "            output_s3_uri = target.get_msas_s3_uri(),\n",
    "            boto_session = boto_session,\n",
    "            cpu = 64,\n",
    "            memory = 500\n",
    "        )\n",
    "\n",
    "    openfold_job_name = target.target_id + \"_OpenFoldJob_\" + datetime.now().strftime(\"%Y%m%d%s\")\n",
    "    openfold_job = OpenFoldJob(\n",
    "        job_name = openfold_job_name,\n",
    "        boto_session = boto_session,\n",
    "        target_id = target.target_id,\n",
    "        fasta_s3_uri = target.get_fasta_s3_uri(),\n",
    "        msa_s3_uri = target.get_msas_s3_uri()+\"/jackhmmer/\",\n",
    "        output_s3_uri = target.get_predictions_s3_uri() + \"/\" + openfold_job_name,\n",
    "        max_template_date = \"2022-01-01\",\n",
    "        use_precomputed_msas = True,\n",
    "        config_preset = \"finetuning_ptm\",\n",
    "        openfold_checkpoint_path = \"openfold_params/finetuning_ptm_2.pt\",\n",
    "        save_outputs = True,\n",
    "        cpu = 4,\n",
    "        memory = 16,\n",
    "        gpu = 1\n",
    "    )\n",
    "\n",
    "    mmseqs2_submission = batch_environment.submit_job(mmseqs2_job, job_queue_name=\"GravitonSpotJobQueue\")\n",
    "    openfold_submission = batch_environment.submit_job(openfold_job, job_queue_name=\"G4dnJobQueue\", depends_on=[mmseqs2_submission])"
   ]
  },
  {
   "cell_type": "markdown",
   "metadata": {},
   "source": [
    "Once the jobs are finished, download the results"
   ]
  },
  {
   "cell_type": "markdown",
   "metadata": {},
   "source": [
    "## 3. Download results"
   ]
  },
  {
   "cell_type": "code",
   "execution_count": null,
   "metadata": {},
   "outputs": [],
   "source": [
    "target = BatchFoldTarget(target_id=\"7OIO_A\", s3_bucket=S3_BUCKET, boto_session=boto_session)\n",
    "target.download_all(local_path=\"data\")"
   ]
  },
  {
   "cell_type": "markdown",
   "metadata": {},
   "source": [
    "## 4. Visualize results"
   ]
  },
  {
   "cell_type": "markdown",
   "metadata": {},
   "source": [
    "### Alignment Data"
   ]
  },
  {
   "cell_type": "code",
   "execution_count": null,
   "metadata": {},
   "outputs": [],
   "source": [
    "sto_path = f\"data/{target.target_id}/msas/jackhmmer\"\n",
    "plt = nbhelpers.msa_plot(id, sto_path)\n",
    "plt.show()"
   ]
  },
  {
   "cell_type": "markdown",
   "metadata": {},
   "source": [
    "### Structure Data"
   ]
  },
  {
   "cell_type": "code",
   "execution_count": null,
   "metadata": {},
   "outputs": [],
   "source": [
    "last_job_name = target.list_job_names(job_type=\"OpenFold\")[0]\n",
    "nbhelpers.pdb_plot(pdb_path = f\"data/{target.target_id}/predictions/{last_job_name}\", show_sidechains=False).show()"
   ]
  },
  {
   "cell_type": "markdown",
   "metadata": {},
   "source": [
    "## 5. Compare result to experimental structure"
   ]
  },
  {
   "cell_type": "markdown",
   "metadata": {},
   "source": [
    "### Align OpenFold to experimental structure"
   ]
  },
  {
   "cell_type": "code",
   "execution_count": null,
   "metadata": {},
   "outputs": [],
   "source": [
    "import tmscoring\n",
    "import py3Dmol\n",
    "\n",
    "last_openfold_job_name = target.list_job_names(job_type=\"OpenFold\")[0]\n",
    "\n",
    "openfold_alignment = tmscoring.TMscoring(\n",
    "    f\"data/{target.target_id}/predictions/{last_job_name}/{target.target_id}_finetuning_ptm_relaxed.pdb\",\n",
    "    f\"data/pdb/{target.target_id}.pdb\"\n",
    "    )\n",
    "\n",
    "# Find the optimal alignment\n",
    "openfold_alignment.optimise()\n",
    "\n",
    "# Get the TM score:\n",
    "tm_score = openfold_alignment.tmscore(**openfold_alignment.get_current_values())\n",
    "print(f\"TM score is {tm_score}\")\n",
    "\n",
    "# Save the aligned files:\n",
    "openfold_alignment.write(outputfile='openfold_alignment.pdb', appended=True)\n",
    "\n",
    "with open(\"openfold_alignment.pdb\") as f:\n",
    "    aligned_pdb = f.read()\n",
    "\n",
    "view = py3Dmol.view(width=800, height=600)\n",
    "view.addModels(aligned_pdb)\n",
    "\n",
    "for n, chain, color in zip(range(2), [\"A\",\"B\",\"C\",], [\"red\", \"blue\", \"green\"]):\n",
    "    view.setStyle({\"chain\": chain}, {\"cartoon\": {\"color\": color}}).zoomTo()\n",
    "view.show()\n"
   ]
  },
  {
   "cell_type": "markdown",
   "metadata": {},
   "source": [
    "### Align AlphaFold to experimental structure"
   ]
  },
  {
   "cell_type": "code",
   "execution_count": null,
   "metadata": {},
   "outputs": [],
   "source": [
    "last_alphafold_job_name = target.list_job_names(job_type=\"AlphaFold\")[0]\n",
    "\n",
    "alphafold_alignment = tmscoring.TMscoring(\n",
    "    f\"data/{target.target_id}/predictions/{last_alphafold_job_name}/ranked_0.pdb\",\n",
    "    f\"data/pdb/{target.target_id}.pdb\"\n",
    "    )\n",
    "\n",
    "# Find the optimal alignment\n",
    "alphafold_alignment.optimise()\n",
    "\n",
    "# Get the TM score:\n",
    "tm_score = alphafold_alignment.tmscore(**alphafold_alignment.get_current_values())\n",
    "print(f\"TM score is {tm_score}\")\n",
    "\n",
    "# Save the aligned files:\n",
    "alphafold_alignment.write(outputfile='alphafold_alignment.pdb', appended=True)\n",
    "\n",
    "with open(\"alphafold_alignment.pdb\") as f:\n",
    "    aligned_pdb = f.read()\n",
    "\n",
    "view = py3Dmol.view(width=800, height=600)\n",
    "view.addModels(aligned_pdb)\n",
    "\n",
    "for n, chain, color in zip(range(2), [\"A\",\"B\",\"C\",], [\"red\", \"blue\", \"green\"]):\n",
    "    view.setStyle({\"chain\": chain}, {\"cartoon\": {\"color\": color}}).zoomTo()\n",
    "view.show()\n"
   ]
  },
  {
   "cell_type": "markdown",
   "metadata": {},
   "source": [
    "### Align OpenFold to AlphaFold"
   ]
  },
  {
   "cell_type": "code",
   "execution_count": null,
   "metadata": {},
   "outputs": [],
   "source": [
    "last_alphafold_job_name = target.list_job_names(job_type=\"AlphaFold\")[0]\n",
    "\n",
    "oa_alignment = tmscoring.TMscoring(\n",
    "    f\"data/{target.target_id}/predictions/{last_job_name}/{target.target_id}_finetuning_ptm_relaxed.pdb\",\n",
    "    f\"data/{target.target_id}/predictions/{last_alphafold_job_name}/ranked_0.pdb\",\n",
    "    )\n",
    "\n",
    "# Find the optimal alignment\n",
    "oa_alignment.optimise()\n",
    "\n",
    "# Get the TM score:\n",
    "tm_score = oa_alignment.tmscore(**oa_alignment.get_current_values())\n",
    "print(f\"TM score is {tm_score}\")\n",
    "\n",
    "# Save the aligned files:\n",
    "oa_alignment.write(outputfile='oa_alignment.pdb', appended=True)\n",
    "\n",
    "with open(\"oa_alignment.pdb\") as f:\n",
    "    aligned_pdb = f.read()\n",
    "\n",
    "view = py3Dmol.view(width=800, height=600)\n",
    "view.addModels(aligned_pdb)\n",
    "\n",
    "for n, chain, color in zip(range(2), [\"A\",\"B\",\"C\",], [\"red\", \"blue\", \"green\"]):\n",
    "    view.setStyle({\"chain\": chain}, {\"cartoon\": {\"color\": color}}).zoomTo()\n",
    "view.show()\n"
   ]
  }
 ],
 "metadata": {
  "accelerator": "GPU",
  "colab": {
   "collapsed_sections": [],
   "name": "AlphaFold.ipynb",
   "private_outputs": true,
   "provenance": []
  },
  "kernelspec": {
   "display_name": "Python 3.8.10 ('.venv': venv)",
   "language": "python",
   "name": "python3"
  },
  "language_info": {
   "codemirror_mode": {
    "name": "ipython",
    "version": 3
   },
   "file_extension": ".py",
   "mimetype": "text/x-python",
   "name": "python",
   "nbconvert_exporter": "python",
   "pygments_lexer": "ipython3",
   "version": "3.8.10"
  },
  "vscode": {
   "interpreter": {
    "hash": "a1e60809b7f0a82b562ad10373da343921f7f222b56c39f24f5ac5a3d051206d"
   }
  }
 },
 "nbformat": 4,
 "nbformat_minor": 0
}
