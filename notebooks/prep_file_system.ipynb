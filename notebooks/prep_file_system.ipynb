{
 "cells": [
  {
   "cell_type": "markdown",
   "metadata": {},
   "source": [
    "Copyright Amazon.com, Inc. or its affiliates. All Rights Reserved.\n",
    "SPDX-License-Identifier: Apache-2.0"
   ]
  },
  {
   "cell_type": "markdown",
   "metadata": {
    "id": "pc5-mbsX9PZC"
   },
   "source": [
    "# Prepare the AWS Batch Architecture for Protein Folding File System\n",
    "\n",
    "This notebook allows you to download and unpack the necessary data to the FSx Lustre filesystem."
   ]
  },
  {
   "cell_type": "code",
   "execution_count": 1,
   "metadata": {},
   "outputs": [],
   "source": [
    "import boto3\n",
    "from batchfold.batchfold_environment import BatchFoldEnvironment\n",
    "from batchfold.download_job import DownloadJob\n",
    "\n",
    "boto_session = boto3.session.Session(profile_name=\"bloyal+proteinfolding-Admin\")\n",
    "batch_environment = BatchFoldEnvironment(boto_session = boto_session)\n",
    "\n",
    "test_download = DownloadJob(\n",
    "    job_definition_name = \"DownloadJobDefinition\",\n",
    "    script=\"./download_test.sh\"\n",
    ")\n",
    "\n",
    "test_submission = batch_environment.submit_job(test_download, job_queue_name=\"GravitonSpotJobQueue\")"
   ]
  },
  {
   "cell_type": "code",
   "execution_count": null,
   "metadata": {},
   "outputs": [],
   "source": [
    "download_alphafold_params_submission = batch_environment.submit_job(\n",
    "    DownloadJob(script=\"./scripts/download_alphafold_params.sh\"),\n",
    "    job_queue_name=\"GravitonSpotJobQueue\",\n",
    ")\n",
    "\n",
    "download_bfd_submission = batch_environment.submit_job(\n",
    "    DownloadJob(script=\"./scripts/download_bfd.sh\"),\n",
    "    job_queue_name=\"GravitonSpotJobQueue\",\n",
    ")\n",
    "\n",
    "download_mgnify_submission = batch_environment.submit_job(\n",
    "    DownloadJob(script=\"./scripts/download_mgnify.sh\"),\n",
    "    job_queue_name=\"GravitonSpotJobQueue\",\n",
    ")\n",
    "\n",
    "download_openfold_params_submission = batch_environment.submit_job(\n",
    "    DownloadJob(script=\"./scripts/download_openfold_params.sh\"),\n",
    "    job_queue_name=\"GravitonSpotJobQueue\",\n",
    ")\n",
    "\n",
    "download_pdb70_submission = batch_environment.submit_job(\n",
    "    DownloadJob(script=\"./scripts/download_pdb70.sh\"),\n",
    "    job_queue_name=\"GravitonSpotJobQueue\",\n",
    ")\n",
    "\n",
    "download_pdb_mmcif_submission = batch_environment.submit_job(\n",
    "    DownloadJob(script=\"./scripts/download_pdb_mmcif.sh\"),\n",
    "    job_queue_name=\"GravitonSpotJobQueue\",\n",
    ")\n",
    "\n",
    "download_pdb_seqres_submission = batch_environment.submit_job(\n",
    "    DownloadJob(script=\"./scripts/download_pdb_seqres.sh\"),\n",
    "    job_queue_name=\"GravitonSpotJobQueue\",\n",
    ")\n",
    "\n",
    "download_small_bfd_submission = batch_environment.submit_job(\n",
    "    DownloadJob(script=\"./scripts/download_small_bfd.sh\"),\n",
    "    job_queue_name=\"GravitonSpotJobQueue\",\n",
    ")\n",
    "\n",
    "download_uniclust30_submission = batch_environment.submit_job(\n",
    "    DownloadJob(script=\"./scripts/download_uniclust30.sh\"),\n",
    "    job_queue_name=\"GravitonSpotJobQueue\",\n",
    ")\n",
    "\n",
    "download_uniprot_submission = batch_environment.submit_job(\n",
    "    DownloadJob(script=\"./scripts/download_uniprot.sh\"),\n",
    "    job_queue_name=\"GravitonSpotJobQueue\",\n",
    ")\n",
    "\n",
    "download_uniref30_submission = batch_environment.submit_job(\n",
    "    DownloadJob(script=\"./scripts/download_uniref30.sh\"),\n",
    "    job_queue_name=\"GravitonSpotJobQueue\",\n",
    ")\n",
    "\n",
    "download_uniref90_submission = batch_environment.submit_job(\n",
    "    DownloadJob(script=\"./scripts/download_uniref90.sh\"),\n",
    "    job_queue_name=\"GravitonSpotJobQueue\",\n",
    ")\n",
    "\n",
    "download_colabfold_envdb_submission = batch_environment.submit_job(\n",
    "    DownloadJob(script=\"./scripts/download_colabfold_envdb.sh\"),\n",
    "    job_queue_name=\"GravitonSpotJobQueue\",\n",
    ")\n",
    "\n",
    "prep_mmseqs_dbs_submission = batch_environment.submit_job(\n",
    "    DownloadJob(script=\"./scripts/prep_mmseqs_dbs.sh\", memory=500, cpu=64),\n",
    "    job_queue_name=\"GravitonSpotJobQueue\",\n",
    "    depends_on=[download_uniref30_submission, download_colabfold_envdb_submission],\n",
    ")\n"
   ]
  }
 ],
 "metadata": {
  "accelerator": "GPU",
  "colab": {
   "collapsed_sections": [],
   "name": "AlphaFold.ipynb",
   "private_outputs": true,
   "provenance": []
  },
  "kernelspec": {
   "display_name": "Python 3.8.10 ('.venv': venv)",
   "language": "python",
   "name": "python3"
  },
  "language_info": {
   "codemirror_mode": {
    "name": "ipython",
    "version": 3
   },
   "file_extension": ".py",
   "mimetype": "text/x-python",
   "name": "python",
   "nbconvert_exporter": "python",
   "pygments_lexer": "ipython3",
   "version": "3.8.10"
  },
  "vscode": {
   "interpreter": {
    "hash": "a1e60809b7f0a82b562ad10373da343921f7f222b56c39f24f5ac5a3d051206d"
   }
  }
 },
 "nbformat": 4,
 "nbformat_minor": 0
}
