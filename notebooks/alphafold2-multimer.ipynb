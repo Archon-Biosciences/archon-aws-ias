{
 "cells": [
  {
   "cell_type": "markdown",
   "metadata": {},
   "source": [
    "Copyright Amazon.com, Inc. or its affiliates. All Rights Reserved.\n",
    "SPDX-License-Identifier: Apache-2.0"
   ]
  },
  {
   "cell_type": "markdown",
   "metadata": {
    "id": "pc5-mbsX9PZC"
   },
   "source": [
    "# Protein Complex Analysis with AlphaFold-Multimer"
   ]
  },
  {
   "cell_type": "markdown",
   "metadata": {},
   "source": [
    "## Table of Contents\n",
    "0. [Install Dependencies](#0.-Install-Dependencies)\n",
    "1. [Create Target](#1.-Create-Target)\n",
    "2. [Submit Sequence Alignment and Folding Jobs](#2.-Submit-Sequence-Alignment-and-Folding-Jobs) \n",
    "3. [Download and Visualize Results](#3.-Download-and-Visualize-Results)"
   ]
  },
  {
   "cell_type": "markdown",
   "metadata": {},
   "source": [
    "## 0. Install Dependencies"
   ]
  },
  {
   "cell_type": "code",
   "execution_count": 1,
   "metadata": {},
   "outputs": [
    {
     "name": "stdout",
     "output_type": "stream",
     "text": [
      "Processing /Users/bloyal/batch-protein-folding\n",
      "  Preparing metadata (setup.py) ... \u001b[?25ldone\n",
      "\u001b[?25hRequirement already satisfied: pip in /Users/bloyal/batch-protein-folding/.venv/lib/python3.8/site-packages (from -r notebook-requirements.txt (line 1)) (22.3.1)\n",
      "Requirement already satisfied: boto3==1.24.89 in /Users/bloyal/batch-protein-folding/.venv/lib/python3.8/site-packages (from -r notebook-requirements.txt (line 2)) (1.24.89)\n",
      "Requirement already satisfied: matplotlib==3.6.1 in /Users/bloyal/batch-protein-folding/.venv/lib/python3.8/site-packages (from -r notebook-requirements.txt (line 3)) (3.6.1)\n",
      "Requirement already satisfied: sagemaker==2.112.1 in /Users/bloyal/batch-protein-folding/.venv/lib/python3.8/site-packages (from -r notebook-requirements.txt (line 4)) (2.112.1)\n",
      "Requirement already satisfied: botocore==1.27.89 in /Users/bloyal/batch-protein-folding/.venv/lib/python3.8/site-packages (from -r notebook-requirements.txt (line 5)) (1.27.89)\n",
      "Requirement already satisfied: jaxlib==0.3.20 in /Users/bloyal/batch-protein-folding/.venv/lib/python3.8/site-packages (from -r notebook-requirements.txt (line 6)) (0.3.20)\n",
      "Requirement already satisfied: jax==0.3.21 in /Users/bloyal/batch-protein-folding/.venv/lib/python3.8/site-packages (from -r notebook-requirements.txt (line 7)) (0.3.21)\n",
      "Requirement already satisfied: biopython==1.79 in /Users/bloyal/batch-protein-folding/.venv/lib/python3.8/site-packages (from -r notebook-requirements.txt (line 8)) (1.79)\n",
      "Requirement already satisfied: py3Dmol==1.8.1 in /Users/bloyal/batch-protein-folding/.venv/lib/python3.8/site-packages (from -r notebook-requirements.txt (line 9)) (1.8.1)\n",
      "Requirement already satisfied: dm-tree==0.1.7 in /Users/bloyal/batch-protein-folding/.venv/lib/python3.8/site-packages (from -r notebook-requirements.txt (line 10)) (0.1.7)\n",
      "Requirement already satisfied: numpy==1.23.3 in /Users/bloyal/batch-protein-folding/.venv/lib/python3.8/site-packages (from -r notebook-requirements.txt (line 11)) (1.23.3)\n",
      "Requirement already satisfied: attrs==22.1.0 in /Users/bloyal/batch-protein-folding/.venv/lib/python3.8/site-packages (from -r notebook-requirements.txt (line 12)) (22.1.0)\n",
      "Requirement already satisfied: s3transfer<0.7.0,>=0.6.0 in /Users/bloyal/batch-protein-folding/.venv/lib/python3.8/site-packages (from boto3==1.24.89->-r notebook-requirements.txt (line 2)) (0.6.0)\n",
      "Requirement already satisfied: jmespath<2.0.0,>=0.7.1 in /Users/bloyal/batch-protein-folding/.venv/lib/python3.8/site-packages (from boto3==1.24.89->-r notebook-requirements.txt (line 2)) (1.0.1)\n",
      "Requirement already satisfied: pillow>=6.2.0 in /Users/bloyal/batch-protein-folding/.venv/lib/python3.8/site-packages (from matplotlib==3.6.1->-r notebook-requirements.txt (line 3)) (9.3.0)\n",
      "Requirement already satisfied: python-dateutil>=2.7 in /Users/bloyal/batch-protein-folding/.venv/lib/python3.8/site-packages (from matplotlib==3.6.1->-r notebook-requirements.txt (line 3)) (2.8.2)\n",
      "Requirement already satisfied: contourpy>=1.0.1 in /Users/bloyal/batch-protein-folding/.venv/lib/python3.8/site-packages (from matplotlib==3.6.1->-r notebook-requirements.txt (line 3)) (1.0.6)\n",
      "Requirement already satisfied: cycler>=0.10 in /Users/bloyal/batch-protein-folding/.venv/lib/python3.8/site-packages (from matplotlib==3.6.1->-r notebook-requirements.txt (line 3)) (0.11.0)\n",
      "Requirement already satisfied: pyparsing>=2.2.1 in /Users/bloyal/batch-protein-folding/.venv/lib/python3.8/site-packages (from matplotlib==3.6.1->-r notebook-requirements.txt (line 3)) (3.0.9)\n",
      "Requirement already satisfied: kiwisolver>=1.0.1 in /Users/bloyal/batch-protein-folding/.venv/lib/python3.8/site-packages (from matplotlib==3.6.1->-r notebook-requirements.txt (line 3)) (1.4.4)\n",
      "Requirement already satisfied: fonttools>=4.22.0 in /Users/bloyal/batch-protein-folding/.venv/lib/python3.8/site-packages (from matplotlib==3.6.1->-r notebook-requirements.txt (line 3)) (4.38.0)\n",
      "Requirement already satisfied: packaging>=20.0 in /Users/bloyal/batch-protein-folding/.venv/lib/python3.8/site-packages (from matplotlib==3.6.1->-r notebook-requirements.txt (line 3)) (21.3)\n",
      "Requirement already satisfied: google-pasta in /Users/bloyal/batch-protein-folding/.venv/lib/python3.8/site-packages (from sagemaker==2.112.1->-r notebook-requirements.txt (line 4)) (0.2.0)\n",
      "Requirement already satisfied: protobuf<4.0,>=3.1 in /Users/bloyal/batch-protein-folding/.venv/lib/python3.8/site-packages (from sagemaker==2.112.1->-r notebook-requirements.txt (line 4)) (3.20.3)\n",
      "Requirement already satisfied: protobuf3-to-dict<1.0,>=0.1.5 in /Users/bloyal/batch-protein-folding/.venv/lib/python3.8/site-packages (from sagemaker==2.112.1->-r notebook-requirements.txt (line 4)) (0.1.5)\n",
      "Requirement already satisfied: smdebug_rulesconfig==1.0.1 in /Users/bloyal/batch-protein-folding/.venv/lib/python3.8/site-packages (from sagemaker==2.112.1->-r notebook-requirements.txt (line 4)) (1.0.1)\n",
      "Requirement already satisfied: importlib-metadata<5.0,>=1.4.0 in /Users/bloyal/batch-protein-folding/.venv/lib/python3.8/site-packages (from sagemaker==2.112.1->-r notebook-requirements.txt (line 4)) (4.13.0)\n",
      "Requirement already satisfied: pandas in /Users/bloyal/batch-protein-folding/.venv/lib/python3.8/site-packages (from sagemaker==2.112.1->-r notebook-requirements.txt (line 4)) (1.5.1)\n",
      "Requirement already satisfied: pathos in /Users/bloyal/batch-protein-folding/.venv/lib/python3.8/site-packages (from sagemaker==2.112.1->-r notebook-requirements.txt (line 4)) (0.3.0)\n",
      "Requirement already satisfied: schema in /Users/bloyal/batch-protein-folding/.venv/lib/python3.8/site-packages (from sagemaker==2.112.1->-r notebook-requirements.txt (line 4)) (0.7.5)\n",
      "Requirement already satisfied: urllib3<1.27,>=1.25.4 in /Users/bloyal/batch-protein-folding/.venv/lib/python3.8/site-packages (from botocore==1.27.89->-r notebook-requirements.txt (line 5)) (1.26.12)\n",
      "Requirement already satisfied: absl-py in /Users/bloyal/batch-protein-folding/.venv/lib/python3.8/site-packages (from jaxlib==0.3.20->-r notebook-requirements.txt (line 6)) (1.3.0)\n",
      "Requirement already satisfied: scipy>=1.5 in /Users/bloyal/batch-protein-folding/.venv/lib/python3.8/site-packages (from jaxlib==0.3.20->-r notebook-requirements.txt (line 6)) (1.9.3)\n",
      "Requirement already satisfied: opt_einsum in /Users/bloyal/batch-protein-folding/.venv/lib/python3.8/site-packages (from jax==0.3.21->-r notebook-requirements.txt (line 7)) (3.3.0)\n",
      "Requirement already satisfied: typing_extensions in /Users/bloyal/batch-protein-folding/.venv/lib/python3.8/site-packages (from jax==0.3.21->-r notebook-requirements.txt (line 7)) (4.4.0)\n",
      "Requirement already satisfied: etils[epath] in /Users/bloyal/batch-protein-folding/.venv/lib/python3.8/site-packages (from jax==0.3.21->-r notebook-requirements.txt (line 7)) (0.9.0)\n",
      "Requirement already satisfied: datetime in /Users/bloyal/batch-protein-folding/.venv/lib/python3.8/site-packages (from batchfold==1.0.0->-r notebook-requirements.txt (line 13)) (4.7)\n",
      "Requirement already satisfied: requests in /Users/bloyal/batch-protein-folding/.venv/lib/python3.8/site-packages (from batchfold==1.0.0->-r notebook-requirements.txt (line 13)) (2.28.1)\n",
      "Requirement already satisfied: zipp>=0.5 in /Users/bloyal/batch-protein-folding/.venv/lib/python3.8/site-packages (from importlib-metadata<5.0,>=1.4.0->sagemaker==2.112.1->-r notebook-requirements.txt (line 4)) (3.10.0)\n",
      "Requirement already satisfied: six in /Users/bloyal/batch-protein-folding/.venv/lib/python3.8/site-packages (from protobuf3-to-dict<1.0,>=0.1.5->sagemaker==2.112.1->-r notebook-requirements.txt (line 4)) (1.16.0)\n",
      "Requirement already satisfied: zope.interface in /Users/bloyal/batch-protein-folding/.venv/lib/python3.8/site-packages (from datetime->batchfold==1.0.0->-r notebook-requirements.txt (line 13)) (5.5.1)\n",
      "Requirement already satisfied: pytz in /Users/bloyal/batch-protein-folding/.venv/lib/python3.8/site-packages (from datetime->batchfold==1.0.0->-r notebook-requirements.txt (line 13)) (2022.6)\n",
      "Requirement already satisfied: importlib_resources in /Users/bloyal/batch-protein-folding/.venv/lib/python3.8/site-packages (from etils[epath]->jax==0.3.21->-r notebook-requirements.txt (line 7)) (5.10.0)\n",
      "Requirement already satisfied: dill>=0.3.6 in /Users/bloyal/batch-protein-folding/.venv/lib/python3.8/site-packages (from pathos->sagemaker==2.112.1->-r notebook-requirements.txt (line 4)) (0.3.6)\n",
      "Requirement already satisfied: ppft>=1.7.6.6 in /Users/bloyal/batch-protein-folding/.venv/lib/python3.8/site-packages (from pathos->sagemaker==2.112.1->-r notebook-requirements.txt (line 4)) (1.7.6.6)\n",
      "Requirement already satisfied: pox>=0.3.2 in /Users/bloyal/batch-protein-folding/.venv/lib/python3.8/site-packages (from pathos->sagemaker==2.112.1->-r notebook-requirements.txt (line 4)) (0.3.2)\n",
      "Requirement already satisfied: multiprocess>=0.70.14 in /Users/bloyal/batch-protein-folding/.venv/lib/python3.8/site-packages (from pathos->sagemaker==2.112.1->-r notebook-requirements.txt (line 4)) (0.70.14)\n",
      "Requirement already satisfied: charset-normalizer<3,>=2 in /Users/bloyal/batch-protein-folding/.venv/lib/python3.8/site-packages (from requests->batchfold==1.0.0->-r notebook-requirements.txt (line 13)) (2.1.1)\n",
      "Requirement already satisfied: idna<4,>=2.5 in /Users/bloyal/batch-protein-folding/.venv/lib/python3.8/site-packages (from requests->batchfold==1.0.0->-r notebook-requirements.txt (line 13)) (3.4)\n",
      "Requirement already satisfied: certifi>=2017.4.17 in /Users/bloyal/batch-protein-folding/.venv/lib/python3.8/site-packages (from requests->batchfold==1.0.0->-r notebook-requirements.txt (line 13)) (2022.9.24)\n",
      "Requirement already satisfied: contextlib2>=0.5.5 in /Users/bloyal/batch-protein-folding/.venv/lib/python3.8/site-packages (from schema->sagemaker==2.112.1->-r notebook-requirements.txt (line 4)) (21.6.0)\n",
      "Requirement already satisfied: setuptools in /Users/bloyal/batch-protein-folding/.venv/lib/python3.8/site-packages (from zope.interface->datetime->batchfold==1.0.0->-r notebook-requirements.txt (line 13)) (56.0.0)\n",
      "Installing collected packages: batchfold\n",
      "  Attempting uninstall: batchfold\n",
      "    Found existing installation: batchfold 1.0.0\n",
      "    Uninstalling batchfold-1.0.0:\n",
      "      Successfully uninstalled batchfold-1.0.0\n",
      "\u001b[33m  DEPRECATION: batchfold is being installed using the legacy 'setup.py install' method, because it does not have a 'pyproject.toml' and the 'wheel' package is not installed. pip 23.1 will enforce this behaviour change. A possible replacement is to enable the '--use-pep517' option. Discussion can be found at https://github.com/pypa/pip/issues/8559\u001b[0m\u001b[33m\n",
      "\u001b[0m  Running setup.py install for batchfold ... \u001b[?25ldone\n",
      "\u001b[?25hSuccessfully installed batchfold-1.0.0\n",
      "Note: you may need to restart the kernel to use updated packages.\n"
     ]
    }
   ],
   "source": [
    "%pip install -U -r -q notebook-requirements.txt"
   ]
  },
  {
   "cell_type": "code",
   "execution_count": 2,
   "metadata": {},
   "outputs": [
    {
     "name": "stdout",
     "output_type": "stream",
     "text": [
      " S3 bucket name is batchfold-221102-batchfolds3bucket-1byh6n52qfaov\n"
     ]
    }
   ],
   "source": [
    "# Import required Python packages\n",
    "\n",
    "import boto3\n",
    "from datetime import datetime\n",
    "import matplotlib.pyplot as plt\n",
    "from batchfold.batchfold_environment import BatchFoldEnvironment\n",
    "from batchfold.batchfold_target import BatchFoldTarget\n",
    "from batchfold.jackhmmer_job import JackhmmerJob\n",
    "from batchfold.openfold_job import OpenFoldJob\n",
    "from batchfold.alphafold2_job import AlphaFold2Job\n",
    "from batchfold.omegafold_job import OmegaFoldJob\n",
    "from batchfold.utils import utils\n",
    "from IPython import display\n",
    "import numpy as np\n",
    "\n",
    "# Create AWS clients\n",
    "boto_session = boto3.session.Session(profile_name='bloyal+proteinfolding-Admin')\n",
    "\n",
    "batch_environment = BatchFoldEnvironment(boto_session=boto_session)\n",
    "\n",
    "S3_BUCKET = batch_environment.default_bucket\n",
    "print(f\" S3 bucket name is {S3_BUCKET}\")"
   ]
  },
  {
   "cell_type": "markdown",
   "metadata": {
    "id": "W4JpOs6oA-QS"
   },
   "source": [
    "## 1. Create Target"
   ]
  },
  {
   "cell_type": "code",
   "execution_count": 3,
   "metadata": {},
   "outputs": [
    {
     "data": {
      "text/plain": [
       "'s3://batchfold-221102-batchfolds3bucket-1byh6n52qfaov/4ZQK/fastas/4ZQK.fasta'"
      ]
     },
     "execution_count": 3,
     "metadata": {},
     "output_type": "execute_result"
    }
   ],
   "source": [
    "target_id = \"4ZQK\"\n",
    "target = BatchFoldTarget(target_id=target_id, s3_bucket=S3_BUCKET, boto_session=boto_session)\n",
    "target.add_sequence(\n",
    "    seq_id=\"4ZQK_1\",\n",
    "    seq=\"AFTVTVPKDLYVVEYGSNMTIECKFPVEKQLDLAALIVYWEMEDKNIIQFVHGEEDLKVQHSSYRQRARLLKDQLSLGNAALQITDVKLQDAGVYRCMISYGGADYKRITVKVNA\",\n",
    "    description=\"Chain A|Programmed cell death 1 ligand 1|Homo sapiens (9606)\",\n",
    ")\n",
    "target.add_sequence(\n",
    "    seq_id=\"4ZQK_2\",\n",
    "    seq=\"NPPTFSPALLVVTEGDNATFTCSFSNTSESFVLNWYRMSPSNQTDKLAAFPEDRSQPGQDSRFRVTQLPNGRDFHMSVVRARRNDSGTYLCGAISLAPKAQIKESLRAELRVTERRAE\",\n",
    "    description=\"Chain B|Programmed cell death protein 1|Homo sapiens (9606)\",\n",
    ")"
   ]
  },
  {
   "cell_type": "markdown",
   "metadata": {},
   "source": [
    "## 2. Submit Sequence Alignment and Folding Jobs"
   ]
  },
  {
   "cell_type": "code",
   "execution_count": 4,
   "metadata": {},
   "outputs": [],
   "source": [
    "jackhmmer_job_name = (\n",
    "    target.target_id + \"_JackhmmerJob_\" + datetime.now().strftime(\"%Y%m%d%s\")\n",
    ")\n",
    "jackhmmer_job = JackhmmerJob(\n",
    "    job_name=jackhmmer_job_name,\n",
    "    target_id=target.target_id,\n",
    "    fasta_s3_uri=target.get_fasta_s3_uri(),\n",
    "    output_s3_uri=target.get_msas_s3_uri(),\n",
    "    boto_session=boto_session,\n",
    "    cpu=16,\n",
    "    memory=31,\n",
    "    model_preset=\"multimer\",\n",
    ")\n",
    "\n",
    "alphafold2_job_name = (\n",
    "    target.target_id + \"_AlphaFold2Job_\" + datetime.now().strftime(\"%Y%m%d%s\")\n",
    ")\n",
    "alphafold2_job = AlphaFold2Job(\n",
    "    job_name=alphafold2_job_name,\n",
    "    boto_session=boto_session,\n",
    "    target_id=target.target_id,\n",
    "    fasta_s3_uri=target.get_fasta_s3_uri(),\n",
    "    msa_s3_uri=target.get_msas_s3_uri(),\n",
    "    output_s3_uri=target.get_predictions_s3_uri() + \"/\" + alphafold2_job_name,\n",
    "    use_precomputed_msas=True,\n",
    "    model_preset=\"multimer\",\n",
    "    cpu=4,\n",
    "    memory=15,  # Why not 16? ECS needs about 1 GB for container services\n",
    "    gpu=1,\n",
    ")\n",
    "\n",
    "jackhmmer_submission = batch_environment.submit_job(\n",
    "    jackhmmer_job, job_queue_name=\"GravitonOnDemandJobQueue\"\n",
    ")\n",
    "alphafold2_submission = batch_environment.submit_job(\n",
    "    alphafold2_job, job_queue_name=\"G4dnJobQueue\", depends_on=[jackhmmer_submission]\n",
    ")\n"
   ]
  },
  {
   "cell_type": "markdown",
   "metadata": {},
   "source": [
    "Check on job statuses"
   ]
  },
  {
   "cell_type": "code",
   "execution_count": 5,
   "metadata": {},
   "outputs": [
    {
     "name": "stdout",
     "output_type": "stream",
     "text": [
      "Job 4ZQK_JackhmmerJob_202212211671632393 is in status RUNNABLE\n",
      "Job 4ZQK_AlphaFold2Job_202212211671632393 is in status SUBMITTED\n"
     ]
    }
   ],
   "source": [
    "for job in [jackhmmer_job, alphafold2_job]:\n",
    "    print(\n",
    "        f\"Job {job.describe_job()[0]['jobName']} is in status {job.describe_job()[0]['status']}\"\n",
    "    )"
   ]
  },
  {
   "cell_type": "markdown",
   "metadata": {},
   "source": [
    "## 3. Download and Visualize Results"
   ]
  },
  {
   "cell_type": "markdown",
   "metadata": {},
   "source": [
    "Once the jobs are finished, download the results"
   ]
  },
  {
   "cell_type": "markdown",
   "metadata": {},
   "source": [
    "### Plot Alignment Data"
   ]
  },
  {
   "cell_type": "code",
   "execution_count": null,
   "metadata": {},
   "outputs": [],
   "source": [
    "target = BatchFoldTarget(\n",
    "    target_id=target_id, s3_bucket=S3_BUCKET, boto_session=boto_session\n",
    ")"
   ]
  },
  {
   "cell_type": "code",
   "execution_count": null,
   "metadata": {},
   "outputs": [],
   "source": [
    "target.download_msas(local_path=\"data\")\n",
    "utils.plot_msa_output_folder(\n",
    "    path=f\"data/{target_id}/msas/jackhmmer\", id=target_id\n",
    ")"
   ]
  },
  {
   "cell_type": "markdown",
   "metadata": {},
   "source": [
    "### Plot Predicted Structure"
   ]
  },
  {
   "cell_type": "code",
   "execution_count": null,
   "metadata": {},
   "outputs": [],
   "source": [
    "last_job_name = target.get_last_job_name(job_type=\"AlphaFold2\")\n",
    "\n",
    "print(f\"Downloading results for job {last_job_name}\")\n",
    "target.download_predictions(local_path=\"data\", job=last_job_name)\n",
    "\n",
    "print(\"Identifying best model\")\n",
    "best_model_name = utils.get_best_alphafold_model(f\"data/{target_id}/predictions/{last_job_name}/ranking_debug.json\")\n",
    "\n",
    "print(f\"Displaying predicted structure for model {best_model_name}\")\n",
    "pdb = f\"data/{target_id}/predictions/{last_job_name}/ranked_0.pdb\"\n",
    "utils.plot_banded_pdb(pdb)"
   ]
  }
 ],
 "metadata": {
  "accelerator": "GPU",
  "colab": {
   "collapsed_sections": [],
   "name": "AlphaFold.ipynb",
   "private_outputs": true,
   "provenance": []
  },
  "kernelspec": {
   "display_name": "Python 3.8.10 ('.venv': venv)",
   "language": "python",
   "name": "python3"
  },
  "language_info": {
   "codemirror_mode": {
    "name": "ipython",
    "version": 3
   },
   "file_extension": ".py",
   "mimetype": "text/x-python",
   "name": "python",
   "nbconvert_exporter": "python",
   "pygments_lexer": "ipython3",
   "version": "3.8.10"
  },
  "vscode": {
   "interpreter": {
    "hash": "a1e60809b7f0a82b562ad10373da343921f7f222b56c39f24f5ac5a3d051206d"
   }
  }
 },
 "nbformat": 4,
 "nbformat_minor": 0
}
