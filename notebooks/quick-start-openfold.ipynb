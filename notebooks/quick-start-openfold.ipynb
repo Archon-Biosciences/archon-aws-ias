{
 "cells": [
  {
   "cell_type": "markdown",
   "metadata": {},
   "source": [
    "Copyright Amazon.com, Inc. or its affiliates. All Rights Reserved.\n",
    "SPDX-License-Identifier: Apache-2.0"
   ]
  },
  {
   "cell_type": "markdown",
   "metadata": {
    "id": "pc5-mbsX9PZC"
   },
   "source": [
    "# Quick Start: Running OpenFold on AWS Batch"
   ]
  },
  {
   "cell_type": "markdown",
   "metadata": {},
   "source": [
    "## Table of Contents\n",
    "0. [Install Dependencies](#0.-Install-Dependencies)\n",
    "1. [Create Target](#1.-Create-Target)\n",
    "2. [Submit Sequence Alignment and Folding Jobs](#2.-Submit-Sequence-Alignment-and-Folding-Jobs) \n",
    "3. [Download results](#3.-Download-results)\n",
    "4. [Visualze results](#4.-Visualize-results)"
   ]
  },
  {
   "cell_type": "markdown",
   "metadata": {},
   "source": [
    "## 0. Install Dependencies"
   ]
  },
  {
   "cell_type": "code",
   "execution_count": null,
   "metadata": {},
   "outputs": [],
   "source": [
    "# Import required Python packages\n",
    "\n",
    "import boto3\n",
    "from datetime import datetime\n",
    "from batchfold.batchfold_environment import BatchFoldEnvironment\n",
    "from batchfold.openfold_job import OpenFoldJob\n",
    "from batchfold.batchfold_target import BatchFoldTarget\n",
    "from batchfold.mmseqs2_job import MMseqs2Job\n",
    "import matplotlib.pyplot as plt\n",
    "from nbhelpers import nbhelpers\n",
    "\n",
    "# Create AWS clients\n",
    "boto_session = boto3.session.Session()\n",
    "batch_environment = BatchFoldEnvironment(boto_session = boto_session)\n",
    "\n",
    "S3_BUCKET = batch_environment.default_bucket\n",
    "print(f\" S3 bucket name is {S3_BUCKET}\")"
   ]
  },
  {
   "cell_type": "markdown",
   "metadata": {
    "id": "W4JpOs6oA-QS"
   },
   "source": [
    "## 1. Create Target"
   ]
  },
  {
   "cell_type": "code",
   "execution_count": null,
   "metadata": {},
   "outputs": [],
   "source": [
    "target_id = \"7VNA\"\n",
    "target = BatchFoldTarget(target_id=target_id, s3_bucket=S3_BUCKET)\n",
    "target.add_sequence(\n",
    "    seq_id=target_id,\n",
    "    seq=\"GSIPHKENMFKSKHKLDFSLVSMDQRGKHILGYADAELVNMGGYDLVHYDDLAYVASAHQELLKTGASGMIAYRYQKKDGEWQWLQTSSRLVYKNSKPDFVICTHRQLMDEEGHDLLGKR\",\n",
    "    description=\"Chain A|Ahr homolog spineless|Drosophila melanogaster\",\n",
    ")"
   ]
  },
  {
   "cell_type": "markdown",
   "metadata": {},
   "source": [
    "## 2. Submit Sequence Alignment and Folding Jobs"
   ]
  },
  {
   "cell_type": "code",
   "execution_count": null,
   "metadata": {},
   "outputs": [],
   "source": [
    "job_name = target.target_id + \"_MMseqs2Job_\" + datetime.now().strftime(\"%Y%m%d%s\")\n",
    "mmseqs2_job = MMseqs2Job(\n",
    "        job_name = job_name,\n",
    "        target_id = target.target_id,\n",
    "        fasta_s3_uri = target.get_fasta_s3_uri(),\n",
    "        output_s3_uri = target.get_msas_s3_uri(),\n",
    "        boto_session = boto_session,\n",
    "        cpu = 64,\n",
    "        memory = 500\n",
    "    )\n",
    "\n",
    "job_name = target.target_id + \"_OpenFoldJob_\" + datetime.now().strftime(\"%Y%m%d%s\")\n",
    "openfold_job = OpenFoldJob(\n",
    "    job_name = job_name,\n",
    "    boto_session = boto_session,\n",
    "    target_id = target.target_id,\n",
    "    fasta_s3_uri = target.get_fasta_s3_uri(),\n",
    "    msa_s3_uri = target.get_msas_s3_uri()+\"/jackhmmer/\",\n",
    "    output_s3_uri = target.get_predictions_s3_uri() + \"/\" + job_name,\n",
    "    use_precomputed_msas = True,\n",
    "    config_preset = \"finetuning_ptm\",\n",
    "    openfold_checkpoint_path = \"openfold_params/finetuning_ptm_2.pt\",\n",
    "    save_outputs = True,\n",
    "    cpu = 4,\n",
    "    memory = 15, # Why not 16? ECS needs about 1 GB for container services\n",
    "    gpu = 1\n",
    ")\n",
    "\n",
    "mmseqs2_submission = batch_environment.submit_job(mmseqs2_job, job_queue_name=\"GravitonOnDemandJobQueue\")\n",
    "openfold_submission = batch_environment.submit_job(openfold_job, job_queue_name=\"G4dnJobQueue\", depends_on=[mmseqs2_submission])"
   ]
  },
  {
   "cell_type": "markdown",
   "metadata": {},
   "source": [
    "Check on job statuses"
   ]
  },
  {
   "cell_type": "code",
   "execution_count": null,
   "metadata": {},
   "outputs": [],
   "source": [
    "for job in [mmseqs2_job, openfold_job]:\n",
    "    print(f\"Job {job.describe_job()[0]['jobName']} is in status {job.describe_job()[0]['status']}\")"
   ]
  },
  {
   "cell_type": "markdown",
   "metadata": {},
   "source": [
    "## 3. Download Results"
   ]
  },
  {
   "cell_type": "markdown",
   "metadata": {},
   "source": [
    "Once the jobs are finished, download the results"
   ]
  },
  {
   "cell_type": "code",
   "execution_count": null,
   "metadata": {},
   "outputs": [],
   "source": [
    "target = BatchFoldTarget(target_id=target_id, s3_bucket=S3_BUCKET, boto_session=boto_session)\n",
    "target.download_predictions(local_path=\"data\")"
   ]
  },
  {
   "cell_type": "markdown",
   "metadata": {},
   "source": [
    "## 4. Visualize Results"
   ]
  },
  {
   "cell_type": "markdown",
   "metadata": {},
   "source": [
    "### Plot Alignment Data"
   ]
  },
  {
   "cell_type": "code",
   "execution_count": null,
   "metadata": {},
   "outputs": [],
   "source": [
    "plt = nbhelpers.msa_plot(target_id, f\"data/{target_id}/msas/mmseqs2\")\n",
    "plt.show()"
   ]
  },
  {
   "cell_type": "markdown",
   "metadata": {},
   "source": [
    "### Plot Predicted Structure"
   ]
  },
  {
   "cell_type": "code",
   "execution_count": null,
   "metadata": {},
   "outputs": [],
   "source": [
    "last_job_name = target.list_job_names(job_type=\"OpenFold\")[-1]\n",
    "print(last_job_name)\n",
    "nbhelpers.pdb_plot(pdb_path = f\"data/{target_id}/predictions/{last_job_name}\", show_sidechains=False).show()"
   ]
  },
  {
   "cell_type": "code",
   "execution_count": null,
   "metadata": {},
   "outputs": [],
   "source": []
  }
 ],
 "metadata": {
  "accelerator": "GPU",
  "colab": {
   "collapsed_sections": [],
   "name": "AlphaFold.ipynb",
   "private_outputs": true,
   "provenance": []
  },
  "kernelspec": {
   "display_name": "Python 3.8.10 ('.venv': venv)",
   "language": "python",
   "name": "python3"
  },
  "language_info": {
   "codemirror_mode": {
    "name": "ipython",
    "version": 3
   },
   "file_extension": ".py",
   "mimetype": "text/x-python",
   "name": "python",
   "nbconvert_exporter": "python",
   "pygments_lexer": "ipython3",
   "version": "3.8.10"
  },
  "vscode": {
   "interpreter": {
    "hash": "a1e60809b7f0a82b562ad10373da343921f7f222b56c39f24f5ac5a3d051206d"
   }
  }
 },
 "nbformat": 4,
 "nbformat_minor": 0
}
