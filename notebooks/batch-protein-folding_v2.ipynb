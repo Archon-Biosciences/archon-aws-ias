{
 "cells": [
  {
   "cell_type": "markdown",
   "metadata": {},
   "source": [
    "Copyright Amazon.com, Inc. or its affiliates. All Rights Reserved.\n",
    "SPDX-License-Identifier: Apache-2.0"
   ]
  },
  {
   "cell_type": "markdown",
   "metadata": {
    "id": "pc5-mbsX9PZC"
   },
   "source": [
    "# Using the AWS Batch Architecture for Protein Folding\n",
    "\n",
    "This notebook allows you to predict protein structures on AWS Batch. \n",
    "\n",
    "**Citing this work**\n",
    "\n",
    "Any publication that discloses findings arising from using this notebook should [cite](https://github.com/deepmind/alphafold/#citing-this-work) the [AlphaFold paper](https://doi.org/10.1038/s41586-021-03819-2).\n",
    "\n",
    "**Licenses**\n",
    "\n",
    "Please refer to the `LICENSE` and `THIRD-PARTY-NOTICES` file for more information about third-party software/licensing."
   ]
  },
  {
   "cell_type": "markdown",
   "metadata": {},
   "source": [
    "## Table of Contents\n",
    "0. [Install Dependencies](#0.-Install-Dependencies)\n",
    "1. [Run a monomer analysis job](#1.-Run-a-monomer-analysis-job)\n",
    "2. [Run a multimer analysis job](#2.-Run-a-multimer-analysis-job) \n",
    "3. [Analyze multiple proteins](#3.-Analyze-multiple-proteins)"
   ]
  },
  {
   "cell_type": "markdown",
   "metadata": {},
   "source": [
    "## 0. Install Dependencies"
   ]
  },
  {
   "cell_type": "code",
   "execution_count": 1,
   "metadata": {},
   "outputs": [],
   "source": [
    "# Import required Python packages\n",
    "\n",
    "import boto3\n",
    "from datetime import datetime\n",
    "# from nbhelpers import nbhelpers\n",
    "import pandas as pd\n",
    "import sagemaker\n",
    "\n",
    "pd.set_option(\"max_colwidth\", None)"
   ]
  },
  {
   "cell_type": "code",
   "execution_count": 2,
   "metadata": {},
   "outputs": [
    {
     "name": "stdout",
     "output_type": "stream",
     "text": [
      " S3 bucket name is sagemaker-us-east-2-032243382548\n"
     ]
    }
   ],
   "source": [
    "# Get client informatiion\n",
    "\n",
    "boto_session = boto3.session.Session(profile_name=\"bloyal+proteinfolding-Admin\")\n",
    "sm_session = sagemaker.session.Session(boto_session)\n",
    "region = boto_session.region_name\n",
    "s3_client = boto_session.client(\"s3\", region_name=region)\n",
    "batch_client = boto_session.client(\"batch\")\n",
    "\n",
    "S3_BUCKET = sm_session.default_bucket()\n",
    "print(f\" S3 bucket name is {S3_BUCKET}\")"
   ]
  },
  {
   "cell_type": "markdown",
   "metadata": {
    "id": "W4JpOs6oA-QS"
   },
   "source": [
    "## 1. Run a monomer analysis job"
   ]
  },
  {
   "cell_type": "markdown",
   "metadata": {},
   "source": [
    "Provide sequences for analysis"
   ]
  },
  {
   "cell_type": "code",
   "execution_count": 3,
   "metadata": {
    "cellView": "form",
    "id": "rowN0bVYLe9n"
   },
   "outputs": [],
   "source": [
    "from batchfold.batchfold_target import BatchFoldTarget\n",
    "\n",
    "target = BatchFoldTarget(\n",
    "    target_id=\"T1084\", \n",
    "    s3_bucket=S3_BUCKET,\n",
    "    s3_base_prefix = \"T1084\",\n",
    "    boto_session=boto_session\n",
    "    ).add_sequence(\n",
    "        seq=\"MAAHKGAEHHHKAAEHHEQAAKHHHAAAEHHEKGEHEQAAHHADTAYAHHKHAEEHAAQAAKHDAEHHAPKPH\",\n",
    "        description=\"Meio, Meiothermus silvanus, 73 residues|\",\n",
    "    ).upload_fasta()"
   ]
  },
  {
   "cell_type": "code",
   "execution_count": 4,
   "metadata": {},
   "outputs": [],
   "source": [
    "from batchfold.batchfold_environment import BatchFoldEnvironment\n",
    "from batchfold.jackhmmer_job import JackhmmerJob\n",
    "from batchfold.mmseqs2_job import MMseqs2Job\n",
    "from batchfold.openfold_job import OpenFoldJob\n",
    "from batchfold.alphafold2_job import AlphaFold2Job\n",
    "\n",
    "\n",
    "batch_environment = BatchFoldEnvironment(boto_session = boto_session)\n",
    "\n",
    "jackhmmer_job = JackhmmerJob(\n",
    "    job_name = target.target_id + \"_JackhmmerJob_\" + datetime.now().strftime(\"%Y%m%d%s\"),\n",
    "    target_id = target.target_id,\n",
    "    fasta_s3_uri = target.get_fasta_s3_uri(),\n",
    "    output_s3_uri = target.get_msas_s3_uri(),\n",
    "    use_small_bfd = True,\n",
    "    boto_session = boto_session,\n",
    "    cpu = 4,\n",
    "    memory = 16\n",
    ")\n",
    "\n",
    "mmseqs2_job = MMseqs2Job(\n",
    "    job_name = target.target_id + \"_MMSeqs2Job_\" + datetime.now().strftime(\"%Y%m%d%s\"),\n",
    "    target_id = target.target_id,\n",
    "    fasta_s3_uri = target.get_fasta_s3_uri(),\n",
    "    output_s3_uri = target.get_msas_s3_uri(),\n",
    "    boto_session = boto_session,\n",
    "    cpu = 64,\n",
    "    memory = 500\n",
    ")\n",
    "\n",
    "alphafold2_job = AlphaFold2Job(\n",
    "    job_name = target.target_id + \"_AlphaFold2Job_\" + datetime.now().strftime(\"%Y%m%d%s\"),\n",
    "    target_id = target.target_id,\n",
    "    fasta_s3_uri = target.get_fasta_s3_uri(),\n",
    "    msa_s3_uri = target.get_msas_s3_uri(),\n",
    "    output_s3_uri = target.get_predictions_s3_uri(),\n",
    "    use_precomputed_msas = True,\n",
    "    model_preset = \"monomer\",\n",
    "    boto_session = boto_session,\n",
    "    cpu = 4,\n",
    "    memory = 16,\n",
    "    gpu = 1\n",
    ")\n",
    "\n",
    "openfold_job = OpenFoldJob(\n",
    "    job_name = target.target_id + \"_OpenFoldJob_\" + datetime.now().strftime(\"%Y%m%d%s\"),\n",
    "    target_id = target.target_id,\n",
    "    fasta_s3_uri = target.get_fasta_s3_uri(),\n",
    "    msa_s3_uri = target.get_msas_s3_uri(),\n",
    "    output_s3_uri = target.get_predictions_s3_uri(),\n",
    "    use_precomputed_msas = True,\n",
    "    config_preset = \"finetuning_ptm\",\n",
    "    openfold_checkpoint_path = \"openfold_params/finetuning_ptm_1.pt\",\n",
    "    save_outputs = True,\n",
    "    boto_session = boto_session,\n",
    "    cpu = 4,\n",
    "    memory = 16,\n",
    "    gpu = 1\n",
    ")"
   ]
  },
  {
   "cell_type": "code",
   "execution_count": 5,
   "metadata": {},
   "outputs": [],
   "source": [
    "jackhmmer_submission = batch_environment.submit_job(jackhmmer_job, job_queue_name=\"GravitonSpotJobQueue\")\n",
    "mmseqs2_submission = batch_environment.submit_job(jackhmmer_job, job_queue_name=\"GravitonSpotJobQueue\")"
   ]
  },
  {
   "cell_type": "code",
   "execution_count": 6,
   "metadata": {},
   "outputs": [],
   "source": [
    "openfold_submission = batch_environment.submit_job(openfold_job, job_queue_name=\"G4dnJobQueue\")\n",
    "alphafold2_submission = batch_environment.submit_job(alphafold2_job, job_queue_name=\"G4dnJobQueue\")"
   ]
  }
 ],
 "metadata": {
  "accelerator": "GPU",
  "colab": {
   "collapsed_sections": [],
   "name": "AlphaFold.ipynb",
   "private_outputs": true,
   "provenance": []
  },
  "kernelspec": {
   "display_name": "Python 3.8.10 ('.venv': venv)",
   "language": "python",
   "name": "python3"
  },
  "language_info": {
   "codemirror_mode": {
    "name": "ipython",
    "version": 3
   },
   "file_extension": ".py",
   "mimetype": "text/x-python",
   "name": "python",
   "nbconvert_exporter": "python",
   "pygments_lexer": "ipython3",
   "version": "3.8.10"
  },
  "vscode": {
   "interpreter": {
    "hash": "a1e60809b7f0a82b562ad10373da343921f7f222b56c39f24f5ac5a3d051206d"
   }
  }
 },
 "nbformat": 4,
 "nbformat_minor": 0
}
